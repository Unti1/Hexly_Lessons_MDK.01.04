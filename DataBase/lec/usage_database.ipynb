{
 "cells": [
  {
   "cell_type": "markdown",
   "metadata": {},
   "source": [
    "# Работа с базой данных"
   ]
  },
  {
   "cell_type": "markdown",
   "metadata": {},
   "source": [
    "- Сессии и фабрики сессий: как управлять сессиями для взаимодействия с базой данных и как применять их через декораторы.\n",
    "\n",
    "- Добавление данных в таблицы: разберём безопасные методы добавления записей с использованием ORM. Также обсудим метод flush и разницу между ним и commit.\n",
    "\n",
    "- Извлечение данных из таблиц: большой блок, в котором научимся извлекать данные через select, используя фильтры (например, where, filter, filter_by). Также обсудим работу с «грязными» данными и преобразование объектов SQLAlchemy в удобные словари Python с помощью Pydantic. В этом блоке разберём и методы SQLAlchemy, такие как scalar, scalars, scalar_one_or_none, all и другие."
   ]
  },
  {
   "cell_type": "markdown",
   "metadata": {},
   "source": [
    "# Что такое сессия?\n",
    "Сессия в SQLAlchemy — это основной инструмент для взаимодействия с базой данных. Представьте её как рабочую область, где происходят все операции: добавление, удаление, извлечение, обновление данных. Все запросы к базе данных выполняются через сессию, без неё никакие операции невозможны.\n",
    "\n",
    "Сессия управляет транзакциями и следит за состоянием объектов, с которыми вы работаете. Она не устанавливает прямого соединения с базой, а абстрагирует этот процесс. Все изменения отправляются в базу данных через метод commit(). В случае ошибки их можно отменить с помощью rollback()."
   ]
  },
  {
   "cell_type": "markdown",
   "metadata": {},
   "source": [
    "# Фабрика сессий\n",
    "Фабрика сессий — это специальная функция для создания новых сессий по мере необходимости. В SQLAlchemy это реализуется с помощью sessionmaker(). Этот объект создаёт сессии, которые можно использовать для работы с базой данных."
   ]
  },
  {
   "cell_type": "markdown",
   "metadata": {},
   "source": [
    "sync реализация"
   ]
  },
  {
   "cell_type": "code",
   "execution_count": null,
   "metadata": {},
   "outputs": [],
   "source": [
    "from sqlalchemy.orm import sessionmaker\n",
    "\n",
    "...\n",
    "engine = ...\n",
    "session_maker = sessionmaker(engine, expire_on_commit=False)  # Фабрика сессий\n",
    "\n",
    "\n",
    "\n",
    "def connection(method):\n",
    "    def wrapper(*args, **kwargs):\n",
    "        with session_maker() as session:\n",
    "            try:\n",
    "                return method(*args, session=session, **kwargs)\n",
    "            except Exception as e:\n",
    "                session.rollback()\n",
    "                raise e\n",
    "            finally:\n",
    "                session.close()\n",
    "\n",
    "    return wrapper\n"
   ]
  },
  {
   "cell_type": "markdown",
   "metadata": {},
   "source": [
    "async реализация"
   ]
  },
  {
   "cell_type": "code",
   "execution_count": null,
   "metadata": {},
   "outputs": [],
   "source": [
    "\n",
    "from sqlalchemy.ext.asyncio import async_sessionmaker, create_async_engine\n",
    "\n",
    "\n",
    "...\n",
    "engine = create_async_engine(...)\n",
    "session_maker = async_sessionmaker(engine, expire_on_commit=False)  # Фабрика сессий\n",
    "\n",
    "def connection(method):\n",
    "    async def wrapper(*args, **kwargs):\n",
    "        async with session_maker() as session:\n",
    "            try:\n",
    "                return await method(*args, session=session, **kwargs)\n",
    "            except Exception as e:\n",
    "                await session.rollback()\n",
    "                raise e\n",
    "            finally:\n",
    "                await session.close()\n",
    "    return wrapper\n"
   ]
  },
  {
   "cell_type": "markdown",
   "metadata": {},
   "source": [
    "# Создание декоратора\n",
    "для работы с сессией по мере необходимости"
   ]
  },
  {
   "cell_type": "markdown",
   "metadata": {},
   "source": [
    "То есть, для того чтоб начать взаимодействовать с базой данных (например для получения или добавления туда информации) нам всегда необходимо быть в рамках сессии. Вопрос только в том какое количество операций вы будете выполнять в рамках одной такой сессии, до ее закрытия.\n",
    "\n",
    "Основные подходы к управлению сессиями:\n",
    "\n",
    "- Открытие сессии на каждое действие: для каждого действия с базой данных создаётся новая сессия. Этот подход эффективен для небольших проектов, но на крупных проектах он может привести к дополнительным накладным расходам.\n",
    "\n",
    "- Открытие сессии на весь блок операций: сессия создаётся один раз перед серией операций и закрывается по завершению всех действий. Это позволяет объединить несколько запросов в одну сессию, что экономит ресурсы и повышает производительность."
   ]
  },
  {
   "cell_type": "code",
   "execution_count": null,
   "metadata": {},
   "outputs": [],
   "source": [
    "# sync\n",
    "def connection(method):\n",
    "    def wrapper(*args, **kwargs):\n",
    "        with session_maker() as session:\n",
    "            try:\n",
    "                return method(*args, session = session, **kwargs)\n",
    "            except Exception as e:\n",
    "                session.rollback()\n",
    "                raise e\n",
    "            finally:\n",
    "                session.close()\n",
    "    return wrapper\n",
    "\n",
    "# async\n",
    "def connection(method):\n",
    "    async def wrapper(*args, **kwargs):\n",
    "        async with async_session_maker() as session:\n",
    "            try:\n",
    "                return await method(*args, session = session, **kwargs)\n",
    "            except Exception as e:\n",
    "                await session.rollback()\n",
    "                raise e\n",
    "            finally:\n",
    "                await  session.close()\n",
    "    return wrapper"
   ]
  },
  {
   "cell_type": "markdown",
   "metadata": {},
   "source": [
    "Как работает этот декоратор:\n",
    "\n",
    "connection принимает исходную функцию для обёртки.\n",
    "\n",
    "wrapper — это функция-обёртка, которая принимает все аргументы исходной функции.\n",
    "\n",
    "async with async_session_maker() автоматически создаёт и закрывает сессию в асинхронном режиме, освобождая вас от необходимости управлять сессией вручную.\n",
    "\n",
    "Сессия передаётся в исходную функцию через аргумент session.\n",
    "\n",
    "В случае ошибки выполняется откат транзакции через rollback(), а затем сессия закрывается."
   ]
  },
  {
   "cell_type": "markdown",
   "metadata": {},
   "source": [
    "Создадим функцию добавления пользователя в базу"
   ]
  },
  {
   "cell_type": "code",
   "execution_count": null,
   "metadata": {},
   "outputs": [],
   "source": [
    "@classmethod\n",
    "@connection\n",
    "def create(\n",
    "    cls,\n",
    "    username: str,\n",
    "    password: str,\n",
    "    email: str,\n",
    "    phone=None,\n",
    "    session: Session = None,\n",
    "    **data,\n",
    "):\n",
    "    new_user = cls(username=username, password=password, email=email, phone=phone)\n",
    "    session.add(new_user)\n",
    "    session.commit()\n",
    "\n",
    "    new_profile = Profile(**data)\n",
    "    session.add(new_profile)\n",
    "    session.commit()\n",
    "    return new_user"
   ]
  },
  {
   "cell_type": "markdown",
   "metadata": {},
   "source": [
    "Чуть оптимизируем его"
   ]
  },
  {
   "cell_type": "code",
   "execution_count": null,
   "metadata": {},
   "outputs": [],
   "source": [
    "@classmethod\n",
    "@connection\n",
    "def create(\n",
    "    cls,\n",
    "    username: str,\n",
    "    password: str,\n",
    "    email: str,\n",
    "    phone=None,\n",
    "    session: Session = None,\n",
    "    **data,\n",
    "):\n",
    "    new_user = cls(username=username, password=password, email=email, phone=phone)\n",
    "    session.add(new_user)\n",
    "    session.flush()\n",
    "\n",
    "    new_profile = Profile(user_id = new_user.id, **data)\n",
    "    session.add(new_profile)\n",
    "    session.commit()\n",
    "    return new_user\n"
   ]
  },
  {
   "cell_type": "markdown",
   "metadata": {},
   "source": [
    "- flush в SQLAlchemy отправляет изменения в базу данных без их окончательной фиксации, то есть без выполнения коммита. Это полезно, когда нужно сгенерировать данные, такие как идентификаторы (например, user.id), чтобы использовать их до фактического сохранения данных в базе. При этом сама транзакция остаётся открытой, и окончательное сохранение происходит позже, при вызове commit."
   ]
  },
  {
   "cell_type": "markdown",
   "metadata": {},
   "source": [
    "Почему это более оптимально:\n",
    "- Работа с промежуточными данными: flush позволяет работать с данными, которые ещё не записаны в базу окончательно, но уже доступны для использования. Например, после создания пользователя вы можете получить его user.id и использовать его для добавления профиля, не выполняя коммит между этими операциями.\n",
    "\n",
    "- Сокращение количества транзакций: Используя flush, мы избегаем нескольких коммитов. Это снижает нагрузку на базу данных, так как все изменения будут зафиксированы одним коммитом в конце транзакции. Таким образом, база данных фиксирует изменения только один раз, что ускоряет выполнение операций."
   ]
  },
  {
   "cell_type": "markdown",
   "metadata": {},
   "source": [
    "# Создание фэйковых данных"
   ]
  },
  {
   "cell_type": "code",
   "execution_count": null,
   "metadata": {},
   "outputs": [],
   "source": [
    "import faker\n",
    "\n",
    "fake = faker.Faker()\n",
    "user_data = [\n",
    "    {\n",
    "        \"username\": fake.user_name(),\n",
    "        \"name\": fake.name(),\n",
    "        \"email\": fake.email(),\n",
    "        \"phone\": fake.phone_number(),\n",
    "    }\n",
    "    for _ in range(10)\n",
    "]\n",
    "for data in user_data:\n",
    "    print(data)"
   ]
  },
  {
   "cell_type": "markdown",
   "metadata": {},
   "source": [
    "Кодом ниже можно сделать довавление сразу нескольких новых пользователей"
   ]
  },
  {
   "cell_type": "code",
   "execution_count": null,
   "metadata": {},
   "outputs": [],
   "source": [
    "posts_data = [\n",
    "    {\n",
    "        \"user_id\": 7,\n",
    "        \"title\": fake.street_title(),\n",
    "        \"contnet\": fake.text(random.randint(100, 500)),\n",
    "    }\n",
    "    for _ in range(10)\n",
    "]\n",
    "print(*posts_data, sep=\"\\n\")\n",
    "\n",
    "Post.create_many(posts_data)"
   ]
  },
  {
   "cell_type": "code",
   "execution_count": null,
   "metadata": {},
   "outputs": [],
   "source": [
    "@classmethod\n",
    "@connection\n",
    "def create(\n",
    "    cls,\n",
    "    session: Session = None,\n",
    "    **data,\n",
    "):\n",
    "    new_row = cls(**data)\n",
    "    session.add(new_row)\n",
    "    session.commit()\n",
    "    return new_row\n",
    "\n",
    "@classmethod\n",
    "@connection\n",
    "def create_many(\n",
    "    cls,\n",
    "    datas: list[dict],\n",
    "    session: Session = None,\n",
    "):\n",
    "    new_rows = [cls(**data) for data in datas]\n",
    "    session.add_all(new_rows)\n",
    "    session.commit()\n",
    "    return new_rows"
   ]
  },
  {
   "cell_type": "markdown",
   "metadata": {},
   "source": [
    "Основные моменты:\n",
    "\n",
    "\n",
    "\n",
    "1. Метод create: Этот метод позволяет добавить одну запись (например, одного пользователя) в базу данных.\n",
    "\n",
    "   - Он принимает сессию базы данных и значения для полей записи в виде именованных аргументов (**values).\n",
    "\n",
    "   - Создаётся новый экземпляр модели с переданными данными, затем он добавляется в сессию.\n",
    "\n",
    "   - После этого вызывается commit, чтобы зафиксировать изменения в базе данных.\n",
    "\n",
    "   - В случае ошибки, происходит откат (rollback), и ошибка выбрасывается.\n",
    "\n",
    "2. Метод create_many: Этот метод используется для добавления сразу нескольких записей в базу данных за один раз.\n",
    "\n",
    "    - Он принимает список словарей, где каждый словарь содержит данные для одной записи.\n",
    "\n",
    "    - Из этих словарей создаются экземпляры модели и добавляются в сессию с помощью create_all.\n",
    "\n",
    "    - После добавления всех экземпляров вызывается коммит для сохранения изменений.\n",
    "\n",
    "    - Если возникает ошибка, как и в первом методе, вызывается откат транзакции и ошибка поднимается дальше."
   ]
  },
  {
   "cell_type": "markdown",
   "metadata": {},
   "source": [
    "# Обновление данных(update)\n",
    "- Обновление каких либо данных ячейки столбца в БД"
   ]
  },
  {
   "cell_type": "code",
   "execution_count": null,
   "metadata": {},
   "outputs": [],
   "source": [
    "@classmethod\n",
    "@connection\n",
    "def update(\n",
    "    cls,\n",
    "    id: int,\n",
    "    session: Session = None,\n",
    "    **data\n",
    "):\n",
    "    query = select(cls).where(cls.id == id)\n",
    "    rows = session.execute(query)\n",
    "    concrete_row = rows.scalar_one_or_none()\n",
    "    \n",
    "    if not concrete_row:\n",
    "        raise ValueError(f'Данные с таким id в таблице {cls.__tablename__} не найдены')\n",
    "    \n",
    "    for key, value in data.items():\n",
    "        if key not in concrete_row.__dict__:\n",
    "            raise ValueError(f'Колонки \"{key}\" нету в таблице {cls.__tablename__}')\n",
    "        if getattr(concrete_row, key) != value:\n",
    "            setattr(concrete_row, key, value)\n",
    "    \n",
    "    session.commit()\n",
    "    return concrete_row\n",
    "            \n",
    "            "
   ]
  },
  {
   "cell_type": "markdown",
   "metadata": {},
   "source": [
    "Для того чтобы выполнять запрос в базу данных через сессию используется объект session а конкретно его метод execute\n",
    "\n",
    "- execute(*запрос в бд*) - это специальная комманда которая может работать как с core так и ORM запросами. \n",
    "- В execute рекомендуется передавать переменную запроса а не сразу запрос, чтобы в дальнейшем по необходимости изменить тело запроса\n",
    "- Для самих запросов(ORM) всегда используются функции-комманды самого SQL но в реализации через sqlalchemy, например select\n",
    "- scalar - это специальная функция которая позволяет нам получить данные из запроса execute в читабельном для python виде. Вариаций scalar'ов около 5 видов.\n",
    "\n",
    "  - rows.scalars() # Все содержимое в виде объекта со списком строк\n",
    "  - rows.scalars().first() # Получить первый объект или None\n",
    "  - rows.scalars().all() # Все содержимое в виде списка объектов-моделей\n",
    "  - rows.scalar_one() # Получает 1 значение из таблицы если таких нет то ошибка\n",
    "  - rows.scalar_one_or_none() # Получает 1 значение из таблицы если таких нет, то возвращает None"
   ]
  },
  {
   "cell_type": "markdown",
   "metadata": {},
   "source": [
    "# Оптимизируем его "
   ]
  },
  {
   "cell_type": "code",
   "execution_count": null,
   "metadata": {},
   "outputs": [],
   "source": [
    "@classmethod\n",
    "@connection\n",
    "def update(\n",
    "    cls,\n",
    "    id: int,\n",
    "    session: Session = None,\n",
    "    **data\n",
    "):\n",
    "    query = select(cls).where(cls.id == id).with_for_update() # Основное изменение\n",
    "    rows = session.execute(query)\n",
    "    concrete_row = rows.scalar_one_or_none()\n",
    "\n",
    "    \n",
    "    if not concrete_row:\n",
    "        raise ValueError(f'Данные с таким id в таблице {cls.__tablename__} не найдены')\n",
    "    \n",
    "    for key, value in data.items():\n",
    "        if key not in concrete_row.__dict__:\n",
    "            raise ValueError(f'Колонки \"{key}\" нету в таблице {cls.__tablename__}')\n",
    "        if getattr(concrete_row, key) != value:\n",
    "            setattr(concrete_row, key, value)\n",
    "    \n",
    "    session.commit()\n",
    "    return concrete_row"
   ]
  },
  {
   "cell_type": "markdown",
   "metadata": {},
   "source": [
    "with_for_update() - в конце запроса, блокирует строку таблицы до первого commit'a"
   ]
  },
  {
   "cell_type": "markdown",
   "metadata": {},
   "source": []
  }
 ],
 "metadata": {
  "kernelspec": {
   "display_name": "database-VmdPUMID-py3.11",
   "language": "python",
   "name": "python3"
  },
  "language_info": {
   "name": "python",
   "version": "3.11.9"
  }
 },
 "nbformat": 4,
 "nbformat_minor": 2
}
