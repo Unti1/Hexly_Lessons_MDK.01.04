{
 "cells": [
  {
   "cell_type": "markdown",
   "metadata": {},
   "source": [
    "# Тесты\n",
    "- это процесс отладки описанного кода, передавая различные параметры с целью выявления слабых мест в программе\n",
    "\n",
    "\n",
    "Для тестов мы будем использовать библиотеку `pytest`"
   ]
  },
  {
   "cell_type": "markdown",
   "metadata": {},
   "source": [
    "Запуск самих тестов происходит с использованием команды в терминале\n",
    "```\n",
    "pytest\n",
    "```"
   ]
  },
  {
   "cell_type": "code",
   "execution_count": 1,
   "metadata": {},
   "outputs": [
    {
     "name": "stdout",
     "output_type": "stream",
     "text": [
      "\u001b[1m============================= test session starts =============================\u001b[0m\n",
      "platform win32 -- Python 3.11.9, pytest-8.3.5, pluggy-1.5.0\n",
      "rootdir: c:\\Projects\\Lessons\\Hexly_01\\QATests\n",
      "configfile: pyproject.toml\n",
      "plugins: asyncio-0.26.0\n",
      "asyncio: mode=Mode.STRICT, asyncio_default_fixture_loop_scope=None, asyncio_default_test_loop_scope=function\n",
      "collected 0 items\n",
      "\n",
      "\u001b[33m============================ \u001b[33mno tests ran\u001b[0m\u001b[33m in 0.01s\u001b[0m\u001b[33m ============================\u001b[0m\n"
     ]
    },
    {
     "name": "stderr",
     "output_type": "stream",
     "text": [
      "c:\\Users\\NatalkaNerealka\\AppData\\Local\\pypoetry\\Cache\\virtualenvs\\qatests-nsnU0jo6-py3.11\\Lib\\site-packages\\pytest_asyncio\\plugin.py:217: PytestDeprecationWarning: The configuration option \"asyncio_default_fixture_loop_scope\" is unset.\n",
      "The event loop scope for asynchronous fixtures will default to the fixture caching scope. Future versions of pytest-asyncio will default the loop scope for asynchronous fixtures to function scope. Set the default fixture loop scope explicitly in order to avoid unexpected behavior in the future. Valid fixture loop scopes are: \"function\", \"class\", \"module\", \"package\", \"session\"\n",
      "\n",
      "  warnings.warn(PytestDeprecationWarning(_DEFAULT_FIXTURE_LOOP_SCOPE_UNSET))\n"
     ]
    }
   ],
   "source": [
    "!pytest"
   ]
  },
  {
   "cell_type": "markdown",
   "metadata": {},
   "source": [
    "Для более детального анализа тестовой зоны используется флаг `-v`"
   ]
  },
  {
   "cell_type": "code",
   "execution_count": null,
   "metadata": {},
   "outputs": [],
   "source": [
    "!pytest -v"
   ]
  },
  {
   "cell_type": "markdown",
   "metadata": {},
   "source": [
    "Вообще, когда мы работаем с pytest, он сам находит те файлы которые нужно протестироватвать и выполняет их. Это называется автоматизацией тестирования кода(авто-тесты). Файлы которые он находит, это файлы с ПРЕФИКСОМ или ПОСТФИКСОМ `test`.\n",
    "\n",
    "Например: \n",
    "- `test_sum.py` - test -- ПРЕфикс\n",
    "- `test_mul.py`\n",
    "- `test1.py`\n",
    "- `1_test.py` - test -- ПОСТфикс\n",
    "и т.д."
   ]
  },
  {
   "cell_type": "markdown",
   "metadata": {},
   "source": [
    "Также для проверок лучше создавать конкретную папку с названием tests и проводить тесты непосредственно в ней, так как pytest будет искать файлы именно в этой папке. Это называется структурирование проекта. \n",
    "\n",
    "Для запуска проверки относительно какого либо пути, вы передаете их напрямую в запрос проверки pytest"
   ]
  },
  {
   "cell_type": "code",
   "execution_count": 2,
   "metadata": {},
   "outputs": [
    {
     "name": "stdout",
     "output_type": "stream",
     "text": [
      "\u001b[1m============================= test session starts =============================\u001b[0m\n",
      "platform win32 -- Python 3.11.9, pytest-8.3.5, pluggy-1.5.0 -- C:\\Users\\NatalkaNerealka\\AppData\\Local\\pypoetry\\Cache\\virtualenvs\\qatests-nsnU0jo6-py3.11\\Scripts\\python.exe\n",
      "cachedir: .pytest_cache\n",
      "rootdir: c:\\Projects\\Lessons\\Hexly_01\\QATests\n",
      "configfile: pyproject.toml\n",
      "plugins: asyncio-0.26.0\n",
      "asyncio: mode=Mode.STRICT, asyncio_default_fixture_loop_scope=None, asyncio_default_test_loop_scope=function\n",
      "\u001b[1mcollecting ... \u001b[0mcollected 1 item\n",
      "\n",
      "tests/test_1.py::test_divide \u001b[31mFAILED\u001b[0m\u001b[31m                                      [100%]\u001b[0m\n",
      "\n",
      "================================== FAILURES ===================================\n",
      "\u001b[31m\u001b[1m_________________________________ test_divide _________________________________\u001b[0m\n",
      "\n",
      "    \u001b[0m\u001b[94mdef\u001b[39;49;00m\u001b[90m \u001b[39;49;00m\u001b[92mtest_divide\u001b[39;49;00m():\u001b[90m\u001b[39;49;00m\n",
      "        \u001b[90m# assert divide(4, 2) == 2\u001b[39;49;00m\u001b[90m\u001b[39;49;00m\n",
      "        \u001b[90m# assert divide(4, 3) == 2\u001b[39;49;00m\u001b[90m\u001b[39;49;00m\n",
      ">       \u001b[94massert\u001b[39;49;00m divide(\u001b[94m4\u001b[39;49;00m, \u001b[94m0\u001b[39;49;00m)\u001b[90m\u001b[39;49;00m\n",
      "\n",
      "\u001b[1m\u001b[31mtests\\test_1.py\u001b[0m:9: \n",
      "_ _ _ _ _ _ _ _ _ _ _ _ _ _ _ _ _ _ _ _ _ _ _ _ _ _ _ _ _ _ _ _ _ _ _ _ _ _ _ _\n",
      "\n",
      "a = 4, b = 0\n",
      "\n",
      "    \u001b[0m\u001b[94mdef\u001b[39;49;00m\u001b[90m \u001b[39;49;00m\u001b[92mdivide\u001b[39;49;00m(a, b):\u001b[90m\u001b[39;49;00m\n",
      ">       \u001b[94mreturn\u001b[39;49;00m a/b\u001b[90m\u001b[39;49;00m\n",
      "\u001b[1m\u001b[31mE       ZeroDivisionError: division by zero\u001b[0m\n",
      "\n",
      "\u001b[1m\u001b[31mtests\\test_1.py\u001b[0m:4: ZeroDivisionError\n",
      "\u001b[36m\u001b[1m=========================== short test summary info ===========================\u001b[0m\n",
      "\u001b[31mFAILED\u001b[0m tests/test_1.py::\u001b[1mtest_divide\u001b[0m - ZeroDivisionError: division by zero\n",
      "\u001b[31m============================== \u001b[31m\u001b[1m1 failed\u001b[0m\u001b[31m in 0.08s\u001b[0m\u001b[31m ==============================\u001b[0m\n"
     ]
    },
    {
     "name": "stderr",
     "output_type": "stream",
     "text": [
      "c:\\Users\\NatalkaNerealka\\AppData\\Local\\pypoetry\\Cache\\virtualenvs\\qatests-nsnU0jo6-py3.11\\Lib\\site-packages\\pytest_asyncio\\plugin.py:217: PytestDeprecationWarning: The configuration option \"asyncio_default_fixture_loop_scope\" is unset.\n",
      "The event loop scope for asynchronous fixtures will default to the fixture caching scope. Future versions of pytest-asyncio will default the loop scope for asynchronous fixtures to function scope. Set the default fixture loop scope explicitly in order to avoid unexpected behavior in the future. Valid fixture loop scopes are: \"function\", \"class\", \"module\", \"package\", \"session\"\n",
      "\n",
      "  warnings.warn(PytestDeprecationWarning(_DEFAULT_FIXTURE_LOOP_SCOPE_UNSET))\n"
     ]
    },
    {
     "name": "stdout",
     "output_type": "stream",
     "text": [
      "\u001b[1m============================= test session starts =============================\u001b[0m\n",
      "platform win32 -- Python 3.11.9, pytest-8.3.5, pluggy-1.5.0 -- C:\\Users\\NatalkaNerealka\\AppData\\Local\\pypoetry\\Cache\\virtualenvs\\qatests-nsnU0jo6-py3.11\\Scripts\\python.exe\n",
      "cachedir: .pytest_cache\n",
      "rootdir: c:\\Projects\\Lessons\\Hexly_01\\QATests\n",
      "configfile: pyproject.toml\n",
      "plugins: asyncio-0.26.0\n",
      "asyncio: mode=Mode.STRICT, asyncio_default_fixture_loop_scope=None, asyncio_default_test_loop_scope=function\n",
      "\u001b[1mcollecting ... \u001b[0mcollected 1 item\n",
      "\n",
      "tests/test_1.py::test_divide \u001b[31mFAILED\u001b[0m\u001b[31m                                      [100%]\u001b[0m\n",
      "\n",
      "================================== FAILURES ===================================\n",
      "\u001b[31m\u001b[1m_________________________________ test_divide _________________________________\u001b[0m\n",
      "\n",
      "    \u001b[0m\u001b[94mdef\u001b[39;49;00m\u001b[90m \u001b[39;49;00m\u001b[92mtest_divide\u001b[39;49;00m():\u001b[90m\u001b[39;49;00m\n",
      "        \u001b[90m# assert divide(4, 2) == 2\u001b[39;49;00m\u001b[90m\u001b[39;49;00m\n",
      "        \u001b[90m# assert divide(4, 3) == 2\u001b[39;49;00m\u001b[90m\u001b[39;49;00m\n",
      ">       \u001b[94massert\u001b[39;49;00m divide(\u001b[94m4\u001b[39;49;00m, \u001b[94m0\u001b[39;49;00m)\u001b[90m\u001b[39;49;00m\n",
      "\n",
      "\u001b[1m\u001b[31mtests\\test_1.py\u001b[0m:9: \n",
      "_ _ _ _ _ _ _ _ _ _ _ _ _ _ _ _ _ _ _ _ _ _ _ _ _ _ _ _ _ _ _ _ _ _ _ _ _ _ _ _\n",
      "\n",
      "a = 4, b = 0\n",
      "\n",
      "    \u001b[0m\u001b[94mdef\u001b[39;49;00m\u001b[90m \u001b[39;49;00m\u001b[92mdivide\u001b[39;49;00m(a, b):\u001b[90m\u001b[39;49;00m\n",
      ">       \u001b[94mreturn\u001b[39;49;00m a/b\u001b[90m\u001b[39;49;00m\n",
      "\u001b[1m\u001b[31mE       ZeroDivisionError: division by zero\u001b[0m\n",
      "\n",
      "\u001b[1m\u001b[31mtests\\test_1.py\u001b[0m:4: ZeroDivisionError\n",
      "\u001b[36m\u001b[1m=========================== short test summary info ===========================\u001b[0m\n",
      "\u001b[31mFAILED\u001b[0m tests/test_1.py::\u001b[1mtest_divide\u001b[0m - ZeroDivisionError: division by zero\n",
      "\u001b[31m============================== \u001b[31m\u001b[1m1 failed\u001b[0m\u001b[31m in 0.09s\u001b[0m\u001b[31m ==============================\u001b[0m\n"
     ]
    },
    {
     "name": "stderr",
     "output_type": "stream",
     "text": [
      "c:\\Users\\NatalkaNerealka\\AppData\\Local\\pypoetry\\Cache\\virtualenvs\\qatests-nsnU0jo6-py3.11\\Lib\\site-packages\\pytest_asyncio\\plugin.py:217: PytestDeprecationWarning: The configuration option \"asyncio_default_fixture_loop_scope\" is unset.\n",
      "The event loop scope for asynchronous fixtures will default to the fixture caching scope. Future versions of pytest-asyncio will default the loop scope for asynchronous fixtures to function scope. Set the default fixture loop scope explicitly in order to avoid unexpected behavior in the future. Valid fixture loop scopes are: \"function\", \"class\", \"module\", \"package\", \"session\"\n",
      "\n",
      "  warnings.warn(PytestDeprecationWarning(_DEFAULT_FIXTURE_LOOP_SCOPE_UNSET))\n"
     ]
    }
   ],
   "source": [
    "# Если нужно проверить все тесты в папке\n",
    "!pytest -v tests\n",
    "# Если нужно проверить конкретный файл\n",
    "!pytest -v tests/test_1.py\n"
   ]
  },
  {
   "cell_type": "markdown",
   "metadata": {},
   "source": [
    "Все тесты которые мы проводим, должны содержать в теле функции конструкцию `assert *условие*`\n",
    "\n",
    "`assert` - это конструкция для проверки того, что условие истинно, если это не так то будет выброшено исключение(ошибка) AssertionError\n",
    "\n"
   ]
  },
  {
   "cell_type": "code",
   "execution_count": 3,
   "metadata": {},
   "outputs": [],
   "source": [
    "\n",
    "\n",
    "def divide(a, b):\n",
    "    return a/b\n",
    "\n",
    "def test_divide():\n",
    "    # assert divide(4, 2) == 2\n",
    "    # assert divide(4, 3) == 2\n",
    "    assert divide(4, 0)"
   ]
  },
  {
   "cell_type": "markdown",
   "metadata": {},
   "source": [
    "# Автотесты на параметрах (parametrize)"
   ]
  },
  {
   "cell_type": "markdown",
   "metadata": {},
   "source": [
    "parametrize - это функция которая принимает список параметров и возвращает список кортежей. Каждый кортеж представляет собой набор параметров для теста функции.\n",
    "\n",
    "Сама функция находтися внутри функции пакета pytest.mark\n",
    "\n",
    "Пример записи:\n"
   ]
  },
  {
   "cell_type": "code",
   "execution_count": null,
   "metadata": {},
   "outputs": [],
   "source": [
    "import pytest\n",
    "\n",
    "@pytest.mark.parametrize(\n",
    "    \"param1, param2\",\n",
    "    [\n",
    "        (1, 4), \n",
    "        (2, 3), \n",
    "        (3, 3),\n",
    "        (3, 2),\n",
    "        (3, 5),\n",
    "        ]\n",
    "\n",
    ")\n",
    "def test_parametrize(param1, param2):\n",
    "    assert param1 + param2 == 5"
   ]
  },
  {
   "cell_type": "markdown",
   "metadata": {},
   "source": [
    "## Проверка на ошибку\n",
    "\n",
    "Есть специальная конструкция внутри pytest которая позволяет нам проверять код на ожидаемое исключение.\n",
    "Эта конструкция использует контекстный менеджер и специальную из pytest - `raises` "
   ]
  },
  {
   "cell_type": "code",
   "execution_count": null,
   "metadata": {},
   "outputs": [],
   "source": [
    "def func(x):\n",
    "    if x < 0:\n",
    "        raise ValueError(\"x must be non-negative\")\n",
    "    return x**2\n",
    "\n",
    "@pytest.mark.parametrize(\n",
    "    \"x\",\n",
    "    [\n",
    "        -1,\n",
    "        1,\n",
    "        0,\n",
    "        20\n",
    "    ]\n",
    ")\n",
    "def test_func(x):\n",
    "    with pytest.raises(ValueError) as excinfo:\n",
    "        func(x)\n",
    "    # assert str(excinfo.value) == \"x must be non-negative\"\n"
   ]
  },
  {
   "cell_type": "markdown",
   "metadata": {},
   "source": [
    "# Фикстуры\n",
    "\n",
    "Что такое фикстуры и зачем они нужны ?\n",
    "\n",
    "Фикстура это конструкция внутри pytest которая позволяет задавать какую либо постоянную переменную в отношении всего текстового кейса(сессии)"
   ]
  },
  {
   "cell_type": "markdown",
   "metadata": {},
   "source": [
    "Каждая фикстура которая создается, по умолчанию, работает локально под каждый блок теста(функцию-тест). То есть, для функции test_user_creation например, фикстура будет создана только отнсительно этой функции, и для каждой последующей это правило работает одинакого.\n",
    "\n",
    "\n",
    "Связано это с тем что у фикстуры по умолчанию выставлено свойство scope которое отвечает за область в которой она будет действовать. По умолчанию scope имеет значение function, что означает что фикстура будет действовать только для текущего тестового блока\n"
   ]
  },
  {
   "cell_type": "code",
   "execution_count": null,
   "metadata": {},
   "outputs": [],
   "source": [
    "import pytest\n",
    "\n",
    "\n",
    "class User:\n",
    "    def __init__(self, username, password):\n",
    "        self.username = username\n",
    "        self.password = password\n",
    "        \n",
    "@pytest.fixture\n",
    "def user():\n",
    "    return User(\n",
    "        username=\"testuser\",\n",
    "        password=\"testpassword\"\n",
    "    )\n",
    "    \n",
    "def test_user_creation(user):\n",
    "    assert user.username == \"testuser\"\n",
    "    assert user.password == \"testpassword\"\n",
    "\n",
    "def test_user_password_channged(user):\n",
    "    user.password = \"newpassword\" # тут фикстура изменило пароль\n",
    "    assert user.password == \"newpassword\" # проверка\n",
    "    \n",
    "def test_user_password_after_change(user):\n",
    "    assert user.password == \"newpassword\" # тут ошибка, потому что фикстура изменила свои свойства только относительно прошлой функции-теста\n",
    "    "
   ]
  },
  {
   "cell_type": "code",
   "execution_count": 4,
   "metadata": {},
   "outputs": [
    {
     "name": "stdout",
     "output_type": "stream",
     "text": [
      "\u001b[1m============================= test session starts =============================\u001b[0m\n",
      "platform win32 -- Python 3.11.9, pytest-8.3.5, pluggy-1.5.0 -- C:\\Users\\NatalkaNerealka\\AppData\\Local\\pypoetry\\Cache\\virtualenvs\\qatests-nsnU0jo6-py3.11\\Scripts\\python.exe\n",
      "cachedir: .pytest_cache\n",
      "rootdir: c:\\Projects\\Lessons\\Hexly_01\\QATests\n",
      "configfile: pyproject.toml\n",
      "plugins: asyncio-0.26.0\n",
      "asyncio: mode=Mode.STRICT, asyncio_default_fixture_loop_scope=None, asyncio_default_test_loop_scope=function\n",
      "\u001b[1mcollecting ... \u001b[0mcollected 3 items\n",
      "\n",
      "tests/test_n3.py::test_user_creation \u001b[32mPASSED\u001b[0m\u001b[32m                              [ 33%]\u001b[0m\n",
      "tests/test_n3.py::test_user_password_channged \u001b[32mPASSED\u001b[0m\u001b[32m                     [ 66%]\u001b[0m\n",
      "tests/test_n3.py::test_user_password_after_change \u001b[31mFAILED\u001b[0m\u001b[31m                 [100%]\u001b[0m\n",
      "\n",
      "================================== FAILURES ===================================\n",
      "\u001b[31m\u001b[1m_______________________ test_user_password_after_change _______________________\u001b[0m\n",
      "\n",
      "user = <tests.test_n3.User object at 0x00000232500B31D0>\n",
      "\n",
      "    \u001b[0m\u001b[94mdef\u001b[39;49;00m\u001b[90m \u001b[39;49;00m\u001b[92mtest_user_password_after_change\u001b[39;49;00m(user):\u001b[90m\u001b[39;49;00m\n",
      ">       \u001b[94massert\u001b[39;49;00m user.password == \u001b[33m\"\u001b[39;49;00m\u001b[33mnewpassword\u001b[39;49;00m\u001b[33m\"\u001b[39;49;00m\u001b[90m\u001b[39;49;00m\n",
      "\u001b[1m\u001b[31mE       AssertionError: assert 'testpassword' == 'newpassword'\u001b[0m\n",
      "\u001b[1m\u001b[31mE         \u001b[0m\n",
      "\u001b[1m\u001b[31mE         - newpassword\u001b[0m\n",
      "\u001b[1m\u001b[31mE         ? ^ ^\u001b[0m\n",
      "\u001b[1m\u001b[31mE         + testpassword\u001b[0m\n",
      "\u001b[1m\u001b[31mE         ? ^ ^^\u001b[0m\n",
      "\n",
      "\u001b[1m\u001b[31mtests\\test_n3.py\u001b[0m:25: AssertionError\n",
      "\u001b[36m\u001b[1m=========================== short test summary info ===========================\u001b[0m\n",
      "\u001b[31mFAILED\u001b[0m tests/test_n3.py::\u001b[1mtest_user_password_after_change\u001b[0m - AssertionError: assert 'testpassword' == 'newpassword'\n",
      "\u001b[31m========================= \u001b[31m\u001b[1m1 failed\u001b[0m, \u001b[32m2 passed\u001b[0m\u001b[31m in 0.08s\u001b[0m\u001b[31m =========================\u001b[0m\n"
     ]
    },
    {
     "name": "stderr",
     "output_type": "stream",
     "text": [
      "c:\\Users\\NatalkaNerealka\\AppData\\Local\\pypoetry\\Cache\\virtualenvs\\qatests-nsnU0jo6-py3.11\\Lib\\site-packages\\pytest_asyncio\\plugin.py:217: PytestDeprecationWarning: The configuration option \"asyncio_default_fixture_loop_scope\" is unset.\n",
      "The event loop scope for asynchronous fixtures will default to the fixture caching scope. Future versions of pytest-asyncio will default the loop scope for asynchronous fixtures to function scope. Set the default fixture loop scope explicitly in order to avoid unexpected behavior in the future. Valid fixture loop scopes are: \"function\", \"class\", \"module\", \"package\", \"session\"\n",
      "\n",
      "  warnings.warn(PytestDeprecationWarning(_DEFAULT_FIXTURE_LOOP_SCOPE_UNSET))\n"
     ]
    }
   ],
   "source": [
    "!pytest -v tests/test_n3.py"
   ]
  },
  {
   "cell_type": "markdown",
   "metadata": {},
   "source": [
    "Но если, мы для нашей fixture указываем конкретную \"область существования\"-`scope` то наша фикстура будет создана единожды отнсительно той области которую мы укажем.\n",
    "\n",
    "Какие они бывают.\n",
    "- 'function' - фикстура создается для каждого блока тестов, что означает что она будет пересоздаваться каждый раз при запуске функции-теста.\n",
    "- 'class' - фикстура создается для каждого класса тестов, и будет работать только относительно класса в котором она была создана.\n",
    "- 'module' - фикстура создается для всего модуля-теста(тестового файла), что означает что она будет создана только один раз при запуске теста.\n",
    "- 'package' - фикстура создается для всего пакета тестов(например папке с тестами `/tests`). Например если мы указываем `pytest -v tests` то когда мы доходим до конкретного файла в котором создается эта фикстура, эта фикстура будет работать для каждого файла тестов, поэтому лучше создавать в самом начале тестовой папки файл с фикстурами который будет проигран первым.\n",
    "- 'session' - фикстура создается для всей сесси теста. То есть для всей pytest проверки с момента чтения того файла в котором эта фикстура находитя \n"
   ]
  },
  {
   "cell_type": "code",
   "execution_count": null,
   "metadata": {},
   "outputs": [],
   "source": [
    "@pytest.fixture(scope='module') # настройка фикстуры отнсительно модуля\n",
    "def user():\n",
    "    \"\"\"Фикстура для создания пользователя.\"\"\"\n",
    "    return User(\n",
    "        username=\"testuser\", \n",
    "        password=\"password123\"\n",
    "        )"
   ]
  },
  {
   "cell_type": "code",
   "execution_count": 5,
   "metadata": {},
   "outputs": [
    {
     "name": "stdout",
     "output_type": "stream",
     "text": [
      "\u001b[1m============================= test session starts =============================\u001b[0m\n",
      "platform win32 -- Python 3.11.9, pytest-8.3.5, pluggy-1.5.0 -- C:\\Users\\NatalkaNerealka\\AppData\\Local\\pypoetry\\Cache\\virtualenvs\\qatests-nsnU0jo6-py3.11\\Scripts\\python.exe\n",
      "cachedir: .pytest_cache\n",
      "rootdir: c:\\Projects\\Lessons\\Hexly_01\\QATests\n",
      "configfile: pyproject.toml\n",
      "plugins: asyncio-0.26.0\n",
      "asyncio: mode=Mode.STRICT, asyncio_default_fixture_loop_scope=None, asyncio_default_test_loop_scope=function\n",
      "\u001b[1mcollecting ... \u001b[0mcollected 3 items\n",
      "\n",
      "tests/test_n3.py::test_user_creation \u001b[32mPASSED\u001b[0m\u001b[32m                              [ 33%]\u001b[0m\n",
      "tests/test_n3.py::test_user_password_channged \u001b[32mPASSED\u001b[0m\u001b[32m                     [ 66%]\u001b[0m\n",
      "tests/test_n3.py::test_user_password_after_change \u001b[32mPASSED\u001b[0m\u001b[32m                 [100%]\u001b[0m\n",
      "\n",
      "\u001b[32m============================== \u001b[32m\u001b[1m3 passed\u001b[0m\u001b[32m in 0.03s\u001b[0m\u001b[32m ==============================\u001b[0m\n"
     ]
    },
    {
     "name": "stderr",
     "output_type": "stream",
     "text": [
      "c:\\Users\\NatalkaNerealka\\AppData\\Local\\pypoetry\\Cache\\virtualenvs\\qatests-nsnU0jo6-py3.11\\Lib\\site-packages\\pytest_asyncio\\plugin.py:217: PytestDeprecationWarning: The configuration option \"asyncio_default_fixture_loop_scope\" is unset.\n",
      "The event loop scope for asynchronous fixtures will default to the fixture caching scope. Future versions of pytest-asyncio will default the loop scope for asynchronous fixtures to function scope. Set the default fixture loop scope explicitly in order to avoid unexpected behavior in the future. Valid fixture loop scopes are: \"function\", \"class\", \"module\", \"package\", \"session\"\n",
      "\n",
      "  warnings.warn(PytestDeprecationWarning(_DEFAULT_FIXTURE_LOOP_SCOPE_UNSET))\n"
     ]
    }
   ],
   "source": [
    "!pytest -v tests/test_n3.py"
   ]
  },
  {
   "cell_type": "markdown",
   "metadata": {},
   "source": [
    "Как видим, после изменения области существования (scope) объект фиктуры изменяется на протяжении новой указанной области существования"
   ]
  },
  {
   "cell_type": "markdown",
   "metadata": {},
   "source": [
    "# Пропускаем тесты которые нам не понадобятся\n",
    "\n",
    "Если существуют такие тесты которые на разных системах, работают по разному, в силу особенностей допустим операционных систем, то такие кейсы мы можем пропускать. Это можно сделать с помощью декоратора @pytest.mark.skipif при определенных условиях"
   ]
  },
  {
   "cell_type": "code",
   "execution_count": null,
   "metadata": {},
   "outputs": [],
   "source": [
    "# tests/test_n4.py\n",
    "import pytest\n",
    "import platform\n",
    "\n",
    "\n",
    "def some_cross_platform_func():\n",
    "    '''Какая то кросплатформенная функция(работает на всех системах)'''\n",
    "    return True\n",
    "    \n",
    "def some_linux_func():\n",
    "    if 'linux' in platform.architecture()[1].lower():\n",
    "        return \"Linux specific code\"\n",
    "    else:\n",
    "        return Exception(\"Not linux system\")\n",
    "\n",
    "@pytest.mark.skipif(\n",
    "    'linux' not in platform.architecture()[1].lower(),\n",
    "    reason = \"Тест поддерживается только на системах Linux\"\n",
    "    )\n",
    "def test_linux_only_funcionality():\n",
    "    assert some_linux_func() == \"Linux specific code\"\n",
    "\n",
    "@pytest.mark.skip()\n",
    "def test_windows_only_functionality():\n",
    "    assert some_cross_platform_func()"
   ]
  },
  {
   "cell_type": "code",
   "execution_count": 7,
   "metadata": {},
   "outputs": [
    {
     "name": "stdout",
     "output_type": "stream",
     "text": [
      "\u001b[1m============================= test session starts =============================\u001b[0m\n",
      "platform win32 -- Python 3.11.9, pytest-8.3.5, pluggy-1.5.0 -- C:\\Users\\NatalkaNerealka\\AppData\\Local\\pypoetry\\Cache\\virtualenvs\\qatests-nsnU0jo6-py3.11\\Scripts\\python.exe\n",
      "cachedir: .pytest_cache\n",
      "rootdir: c:\\Projects\\Lessons\\Hexly_01\\QATests\n",
      "configfile: pyproject.toml\n",
      "plugins: asyncio-0.26.0\n",
      "asyncio: mode=Mode.STRICT, asyncio_default_fixture_loop_scope=None, asyncio_default_test_loop_scope=function\n",
      "\u001b[1mcollecting ... \u001b[0mcollected 2 items\n",
      "\n",
      "tests/test_n4.py::test_linux_only_funcionality \u001b[33mSKIPPED\u001b[0m (Тест поддерж...)\u001b[32m [ 50%]\u001b[0m\n",
      "tests/test_n4.py::test_windows_only_functionality \u001b[33mSKIPPED\u001b[0m (unconditi...)\u001b[33m [100%]\u001b[0m\n",
      "\n",
      "\u001b[33m============================= \u001b[33m\u001b[1m2 skipped\u001b[0m\u001b[33m in 0.02s\u001b[0m\u001b[33m ==============================\u001b[0m\n"
     ]
    },
    {
     "name": "stderr",
     "output_type": "stream",
     "text": [
      "c:\\Users\\NatalkaNerealka\\AppData\\Local\\pypoetry\\Cache\\virtualenvs\\qatests-nsnU0jo6-py3.11\\Lib\\site-packages\\pytest_asyncio\\plugin.py:217: PytestDeprecationWarning: The configuration option \"asyncio_default_fixture_loop_scope\" is unset.\n",
      "The event loop scope for asynchronous fixtures will default to the fixture caching scope. Future versions of pytest-asyncio will default the loop scope for asynchronous fixtures to function scope. Set the default fixture loop scope explicitly in order to avoid unexpected behavior in the future. Valid fixture loop scopes are: \"function\", \"class\", \"module\", \"package\", \"session\"\n",
      "\n",
      "  warnings.warn(PytestDeprecationWarning(_DEFAULT_FIXTURE_LOOP_SCOPE_UNSET))\n"
     ]
    }
   ],
   "source": [
    "!pytest -v tests/test_n4.py"
   ]
  },
  {
   "cell_type": "markdown",
   "metadata": {},
   "source": [
    "Если у нас есть тест, который мы хотим пропускать, без какой либо причины, то мы можем испольовать @pytest.mark.skip. В этом случае указывать причину пропуска не обязательно. В отличии от skipif, т.к. если мы пропускаем какой то блок теста, по какой то причине(условие) мы должны её не только указать но и описать причину"
   ]
  },
  {
   "cell_type": "code",
   "execution_count": null,
   "metadata": {},
   "outputs": [],
   "source": [
    "\n",
    "@pytest.mark.skip(reason='Функция не готова')\n",
    "def test_cross_platform_functionality():\n",
    "    assert some_cross_platform_func()"
   ]
  },
  {
   "cell_type": "code",
   "execution_count": 8,
   "metadata": {},
   "outputs": [
    {
     "name": "stdout",
     "output_type": "stream",
     "text": [
      "\u001b[1m============================= test session starts =============================\u001b[0m\n",
      "platform win32 -- Python 3.11.9, pytest-8.3.5, pluggy-1.5.0 -- C:\\Users\\NatalkaNerealka\\AppData\\Local\\pypoetry\\Cache\\virtualenvs\\qatests-nsnU0jo6-py3.11\\Scripts\\python.exe\n",
      "cachedir: .pytest_cache\n",
      "rootdir: c:\\Projects\\Lessons\\Hexly_01\\QATests\n",
      "configfile: pyproject.toml\n",
      "plugins: asyncio-0.26.0\n",
      "asyncio: mode=Mode.STRICT, asyncio_default_fixture_loop_scope=None, asyncio_default_test_loop_scope=function\n",
      "\u001b[1mcollecting ... \u001b[0mcollected 2 items\n",
      "\n",
      "tests/test_n4.py::test_linux_only_funcionality \u001b[33mSKIPPED\u001b[0m (Тест поддерж...)\u001b[32m [ 50%]\u001b[0m\n",
      "tests/test_n4.py::test_windows_only_functionality \u001b[33mSKIPPED\u001b[0m (Функция н...)\u001b[33m [100%]\u001b[0m\n",
      "\n",
      "\u001b[33m============================= \u001b[33m\u001b[1m2 skipped\u001b[0m\u001b[33m in 0.02s\u001b[0m\u001b[33m ==============================\u001b[0m\n"
     ]
    },
    {
     "name": "stderr",
     "output_type": "stream",
     "text": [
      "c:\\Users\\NatalkaNerealka\\AppData\\Local\\pypoetry\\Cache\\virtualenvs\\qatests-nsnU0jo6-py3.11\\Lib\\site-packages\\pytest_asyncio\\plugin.py:217: PytestDeprecationWarning: The configuration option \"asyncio_default_fixture_loop_scope\" is unset.\n",
      "The event loop scope for asynchronous fixtures will default to the fixture caching scope. Future versions of pytest-asyncio will default the loop scope for asynchronous fixtures to function scope. Set the default fixture loop scope explicitly in order to avoid unexpected behavior in the future. Valid fixture loop scopes are: \"function\", \"class\", \"module\", \"package\", \"session\"\n",
      "\n",
      "  warnings.warn(PytestDeprecationWarning(_DEFAULT_FIXTURE_LOOP_SCOPE_UNSET))\n"
     ]
    }
   ],
   "source": [
    "!pytest -v tests/test_n4.py"
   ]
  },
  {
   "cell_type": "markdown",
   "metadata": {},
   "source": [
    "# Группировка тестов\n",
    "\n",
    "В Python есть возможность группировать тесты с помощью модуля pytest. Это позволяет нам объединять несколько тестов в один блок, чтобы выполнить их вместе или отдельно\n",
    "\n",
    "Создается такая структура через pytest.mark.*название группы*"
   ]
  },
  {
   "cell_type": "code",
   "execution_count": null,
   "metadata": {},
   "outputs": [],
   "source": [
    "import pytest\n",
    "\n",
    "class Bot:\n",
    "    def __init__(self, name):\n",
    "        self.name = name\n",
    "        self.commands = {'help': 'Показать список команд', 'start': 'Запустить бота', 'hi': 'Привет'}\n",
    "\n",
    "    def greeting(self):\n",
    "        return self.commands['hi']\n",
    "\n",
    "@pytest.fixture(scope='module')\n",
    "def bot():\n",
    "    return Bot('TestBot')\n",
    "\n",
    "@pytest.mark.bot\n",
    "def test_greeting_bot(bot):\n",
    "    assert bot.greeting() == \"Привет\"\n",
    "\n",
    "@pytest.mark.bot\n",
    "def test_commands_bot(bot):\n",
    "    assert bot.commands['help']\n",
    "    assert bot.commands['start']\n",
    "    \n"
   ]
  },
  {
   "cell_type": "markdown",
   "metadata": {},
   "source": []
  }
 ],
 "metadata": {
  "kernelspec": {
   "display_name": "qatests-nsnU0jo6-py3.11",
   "language": "python",
   "name": "python3"
  },
  "language_info": {
   "codemirror_mode": {
    "name": "ipython",
    "version": 3
   },
   "file_extension": ".py",
   "mimetype": "text/x-python",
   "name": "python",
   "nbconvert_exporter": "python",
   "pygments_lexer": "ipython3",
   "version": "3.11.9"
  }
 },
 "nbformat": 4,
 "nbformat_minor": 2
}
