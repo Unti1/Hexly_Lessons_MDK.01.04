{
 "cells": [
  {
   "cell_type": "markdown",
   "metadata": {},
   "source": [
    "# Многопроцессорность"
   ]
  },
  {
   "cell_type": "markdown",
   "metadata": {},
   "source": [
    "Потоки существуют внутри одного процесса и работают с общими ресурсами этого процесса. Однако у процессов, по сути, своя область памяти и свой внутренний GIL (Global Interpreter Lock). То есть, когда мы говорим о потоках, мы говорим о конкурентном выполнении кода. Когда мы говорим о процессах, мы говорим о параллельном выполнении на разных ядрах вашего процессора. Однако из-за этого программа становится тяжелее для компьютера. И так как у каждого процесса своя область памяти, соответственно, сложнее становится их координировать между собой."
   ]
  },
  {
   "cell_type": "code",
   "execution_count": 1,
   "metadata": {},
   "outputs": [
    {
     "name": "stdout",
     "output_type": "stream",
     "text": [
      "Второй рабочий изменил значение счётчика на  20\n",
      "Первый рабочий изменил значение счётчика на  25\n",
      "Итоговое значение счётчика: 25\n"
     ]
    }
   ],
   "source": [
    "\n",
    "from threading import Thread\n",
    "import time\n",
    "\n",
    "\n",
    "counter = 0\n",
    "\n",
    "def first_worker(n):\n",
    "    global counter\n",
    "    for i in range(n):\n",
    "        counter += 1\n",
    "        time.sleep(1)\n",
    "    print('Первый рабочий изменил значение счётчика на ', counter)\n",
    "\n",
    "def second_worker(n):\n",
    "    global counter\n",
    "    for i in range(n):\n",
    "        counter += 1\n",
    "        time.sleep(1)\n",
    "    print('Второй рабочий изменил значение счётчика на ', counter)\n",
    "\n",
    "t1 = Thread(target=first_worker, args=(15,))\n",
    "t2 = Thread(target=second_worker, args=(10,))\n",
    "\n",
    "t1.start()\n",
    "t2.start()\n",
    "\n",
    "t1.join()\n",
    "t2.join()\n",
    "print('Итоговое значение счётчика:', counter)\n",
    "\n"
   ]
  },
  {
   "cell_type": "markdown",
   "metadata": {},
   "source": [
    "Но что, если мы поменяем «thread» на «process». В плане написания процессы ничем не отличаются от потоков, мы можем применять все те же самые методы. Мы можем использовать два способа для создания процессов: либо использовать уже готовый класс «Process» и передавать туда в «target» нужную функцию и в «args» параметры нашей функции, либо создать класс и переопределить в нём, например, метод «run», если нам нужна какая-то особая логика поведения. Также мы можем проверять, живы ли процессы, и принудительно останавливать их. В этом они очень схожи с потоками.\n",
    "\n",
    "Однако, если мы здесь напишем «process1» и обратимся к нашему модулю «multiprocessing», создадим объект класса «Process», где в качестве «target» укажем нашу первую функцию и передадим «args» со значением 10. Для второго процесса укажем в качестве «target» вторую функцию и передадим, например, 15. Запустим оба процесса, и при таком написании мы получим ошибку"
   ]
  },
  {
   "cell_type": "code",
   "execution_count": 3,
   "metadata": {},
   "outputs": [
    {
     "name": "stdout",
     "output_type": "stream",
     "text": [
      "Итоговое значение счётчика: 0\n"
     ]
    }
   ],
   "source": [
    "from multiprocessing import Process\n",
    "counter = 0\n",
    "\n",
    "t1 = Process(target=first_worker, args=(15,))\n",
    "t2 = Process(target=second_worker, args=(10,))\n",
    "\n",
    "t1.start()\n",
    "t2.start()\n",
    "\n",
    "print('Итоговое значение счётчика:', counter)\n"
   ]
  },
  {
   "cell_type": "markdown",
   "metadata": {},
   "source": [
    "Чтобы избавиться от этой ошибки, нам нужно использовать конструкцию «if __name__ == '__main__':». При таком раскладе у нас всё отлично отрабатывает "
   ]
  },
  {
   "cell_type": "code",
   "execution_count": null,
   "metadata": {},
   "outputs": [],
   "source": [
    "if __name__ == '__main__':\n",
    "    t1 = Process(target=first_worker, args=(15,))\n",
    "    t2 = Process(target=second_worker, args=(10,))\n",
    "\n",
    "    t1.start()\n",
    "    t2.start()\n",
    "    t1.join()\n",
    "    t2.join()\n",
    "    print('Итоговое значение счётчика:', counter)"
   ]
  },
  {
   "cell_type": "markdown",
   "metadata": {},
   "source": [
    "Однако сейчас мы ожидаем получить результат для первого рабочего 15, для второго рабочего 10. То есть у каждого рабочего своя область памяти.\n",
    "\n",
    "По сути мы создали несколько экземпляров нашей программы, которые выполняют определённую функция, и они выполняются параллельно. В этом мы можем убедиться, если будем выводить значение нашей переменной «counter». В результате запуска мы видим, что нет никаких наслоений, «print» и значения идентичные, что в случае работы одного процесса, что в случае работы второго процесса"
   ]
  },
  {
   "cell_type": "markdown",
   "metadata": {},
   "source": [
    "# Составление связи между процессами"
   ]
  },
  {
   "cell_type": "markdown",
   "metadata": {},
   "source": [
    "# Очереди(Queue)\n",
    "\n",
    "Очереди являются одним из самых простых и безопасных способов обмена данными между процессами. Они позволяют передавать данные от одного процесса к другому."
   ]
  },
  {
   "cell_type": "code",
   "execution_count": 4,
   "metadata": {},
   "outputs": [],
   "source": [
    "from multiprocessing import Process, Queue\n",
    "\n",
    "def worker(q):\n",
    "    data = q.get()\n",
    "    print(f'Process1 received: {data}')\n",
    "\n",
    "def worker2(q):\n",
    "    data = q.get()\n",
    "    print(f'Process2 received: {data}')\n",
    "    \n",
    "if __name__ == '__main__':\n",
    "    q = Queue()\n",
    "    p = Process(target=worker, args=(q, ))\n",
    "    p2 = Process(target=worker2, args=(q, ))\n",
    "    p.start()\n",
    "    p2.start()\n",
    "    q.put('Hello from main process')\n",
    "    q.put('Hello')\n",
    "    p.join()\n",
    "    p2.join()\n"
   ]
  },
  {
   "cell_type": "markdown",
   "metadata": {},
   "source": [
    "# Каналы(Pipe)\n",
    "\n",
    "Каналы предоставляют двустороннюю связь между процессами. Они полезны, когда нужно организовать обмен данными в обоих направлениях."
   ]
  },
  {
   "cell_type": "code",
   "execution_count": 5,
   "metadata": {},
   "outputs": [
    {
     "ename": "TypeError",
     "evalue": "BaseProcess.__init__() got an unexpected keyword argument 'targar'. Did you mean 'target'?",
     "output_type": "error",
     "traceback": [
      "\u001b[31m---------------------------------------------------------------------------\u001b[39m",
      "\u001b[31mTypeError\u001b[39m                                 Traceback (most recent call last)",
      "\u001b[36mCell\u001b[39m\u001b[36m \u001b[39m\u001b[32mIn[5]\u001b[39m\u001b[32m, line 11\u001b[39m\n\u001b[32m      9\u001b[39m \u001b[38;5;28;01mif\u001b[39;00m \u001b[34m__name__\u001b[39m == \u001b[33m'\u001b[39m\u001b[33m__main__\u001b[39m\u001b[33m'\u001b[39m:\n\u001b[32m     10\u001b[39m     parent_conn, child_conn = Pipe()\n\u001b[32m---> \u001b[39m\u001b[32m11\u001b[39m     p = \u001b[43mProcess\u001b[49m\u001b[43m(\u001b[49m\u001b[43mtargar\u001b[49m\u001b[43m=\u001b[49m\u001b[43mworker\u001b[49m\u001b[43m,\u001b[49m\u001b[43m \u001b[49m\u001b[43margs\u001b[49m\u001b[43m=\u001b[49m\u001b[43m(\u001b[49m\u001b[43mchild_conn\u001b[49m\u001b[43m,\u001b[49m\u001b[43m \u001b[49m\u001b[43m)\u001b[49m\u001b[43m)\u001b[49m\n\u001b[32m     12\u001b[39m     p.start()\n\u001b[32m     14\u001b[39m     parent_conn.send(\u001b[33m'\u001b[39m\u001b[33mHello from main process\u001b[39m\u001b[33m'\u001b[39m)\n",
      "\u001b[31mTypeError\u001b[39m: BaseProcess.__init__() got an unexpected keyword argument 'targar'. Did you mean 'target'?"
     ]
    }
   ],
   "source": [
    "from multiprocessing import Process, Pipe\n",
    "from multiprocessing.connection import PipeConnection\n",
    "\n",
    "def worker(conn: PipeConnection):\n",
    "    data = conn.recv() # получаем данные из канала\n",
    "    print('Process received: {data}')\n",
    "    conn.send('Hello from worker')\n",
    "    \n",
    "if __name__ == '__main__':\n",
    "    parent_conn, child_conn = Pipe()\n",
    "    p = Process(targar=worker, args=(child_conn, ))\n",
    "    p.start()\n",
    "    \n",
    "    parent_conn.send('Hello from main process')\n",
    "    print(parent_conn.recv()) # получаем ответ от процесса\n",
    "    p.join()\n"
   ]
  }
 ],
 "metadata": {
  "kernelspec": {
   "display_name": "Python 3",
   "language": "python",
   "name": "python3"
  },
  "language_info": {
   "codemirror_mode": {
    "name": "ipython",
    "version": 3
   },
   "file_extension": ".py",
   "mimetype": "text/x-python",
   "name": "python",
   "nbconvert_exporter": "python",
   "pygments_lexer": "ipython3",
   "version": "3.13.2"
  }
 },
 "nbformat": 4,
 "nbformat_minor": 2
}
