{
 "cells": [
  {
   "cell_type": "markdown",
   "metadata": {},
   "source": [
    "# Условная конструкция. Операторы: if, elif, else "
   ]
  },
  {
   "cell_type": "markdown",
   "metadata": {},
   "source": [
    "Конструкция - определенный механизм, заданный на уровне ядра Python, позволяющий выполнить опреленную механику в рамках своего применения."
   ]
  },
  {
   "cell_type": "markdown",
   "metadata": {},
   "source": [
    "Условная конструккция if-elif-else: конструкция которая позволяет выполнять провверку на истенность определенное нами условие"
   ]
  },
  {
   "cell_type": "code",
   "execution_count": 14,
   "metadata": {},
   "outputs": [
    {
     "name": "stdout",
     "output_type": "stream",
     "text": [
      "int_value=1001\n",
      "Положительное натуральное число\n"
     ]
    }
   ],
   "source": [
    "# int_value = input() # Запись input всегда является строкой\n",
    "int_value = int(input()) # Запись input всегда является строкой\n",
    "\n",
    "print(f'{int_value=}')\n",
    "\n",
    "if int_value > 0: # Входное условие, начинется всегда с if\n",
    "    print('Положительное натуральное число')\n",
    "elif int_value > 100: # Вторичное(дополнительное) условие, всегда идет между if-else или всегда после if\n",
    "    print('Число больше 100')\n",
    "elif int_value > 1000: # Может быть указан сколь угодно много раз\n",
    "    print('Число больше 1000')\n",
    "else: # Выполянется в любом случае если условие(я) не выполняе(ю)тся\"\"\"\n",
    "\n",
    "    print('Пустое значение')\n",
    "\n",
    "\n",
    "\n"
   ]
  },
  {
   "cell_type": "markdown",
   "metadata": {},
   "source": [
    "В случае работы с условиями, следует ставить более частный случай(условие) выше чем менее частный или общий случай"
   ]
  },
  {
   "cell_type": "code",
   "execution_count": 13,
   "metadata": {},
   "outputs": [
    {
     "name": "stdout",
     "output_type": "stream",
     "text": [
      "int_value=1001\n",
      "Число больше 1000\n"
     ]
    }
   ],
   "source": [
    "# int_value = input() # Запись input всегда является строкой\n",
    "int_value = int(input()) # Запись input всегда является строкой\n",
    "\n",
    "print(f'{int_value=}')\n",
    "\n",
    "if int_value > 1000: # Более чатный\n",
    "    print('Число больше 1000')\n",
    "elif int_value > 100: # Частный\n",
    "    print('Число больше 100')\n",
    "elif int_value > 0: # Общий\n",
    "    print('Положительное натуральное число')\n",
    "else:\n",
    "    print('Пустое значение')\n",
    "\n",
    "\n",
    "\n"
   ]
  },
  {
   "cell_type": "markdown",
   "metadata": {},
   "source": [
    "# Bool - True\\False - Булевый тип данных\n",
    "\n",
    "Тип данных который характерезует истинность\\ложность. Истина всегда подписывается как True, а ложь как False. В рамках компьютера яввляется основополагающим механизмом, потому что изначально компютор работает на логике 1(истина) и 0(ложь)"
   ]
  },
  {
   "cell_type": "code",
   "execution_count": 21,
   "metadata": {},
   "outputs": [
    {
     "name": "stdout",
     "output_type": "stream",
     "text": [
      "True <class 'bool'>\n",
      "bool('')=False\n",
      "bool('Не пустая')=True\n",
      "bool({})=False\n",
      "bool({'Не': 'пустая'})=True\n",
      "False\n",
      "True\n",
      "False\n"
     ]
    }
   ],
   "source": [
    "val = True\n",
    "print(val, type(val))\n",
    "\n",
    "print(f\"{bool('')=}\")\n",
    "print(f\"{bool('Не пустая')=}\")\n",
    "\n",
    "print(f\"{bool({})=}\")\n",
    "print(f\"{bool({'Не': 'пустая'})=}\")\n",
    "\n",
    "print(bool([]))\n",
    "print(bool(['Не', 'пустая']))\n",
    "\n",
    "None # пустота. или отсутствие значение # NoneType тип данных\n",
    "\n",
    "val = None\n",
    "print(bool(val))\n"
   ]
  },
  {
   "cell_type": "markdown",
   "metadata": {},
   "source": [
    "Интерактивный пример, val можете менять на любую структуру чтобы рассмотреть её поведения как булевого типа данных"
   ]
  },
  {
   "cell_type": "code",
   "execution_count": 28,
   "metadata": {},
   "outputs": [
    {
     "name": "stdout",
     "output_type": "stream",
     "text": [
      "val={}\n",
      "Структура val пустая. Условие ложно\n"
     ]
    }
   ],
   "source": [
    "val = {}\n",
    "print(f\"{val=}\")\n",
    "if val:\n",
    "    print('Структура val не пустая. Услвоие истино')\n",
    "else:\n",
    "    print('Структура val пустая. Условие ложно')\n",
    "\n"
   ]
  },
  {
   "cell_type": "markdown",
   "metadata": {},
   "source": [
    "Вывод: Пержде чем услования коснтрукция начинает проверку своего условия, оно его булифицирует(преобразовывает в bool тип данных)"
   ]
  },
  {
   "cell_type": "markdown",
   "metadata": {},
   "source": [
    "## Условные операторы\n",
    "\n",
    "* `>` - больше\n",
    "* `>=` - больше либо равно\n",
    "* `<`- меньше\n",
    "* `<=` - меньше либо равно\n",
    "* `==` - строго равно (полное соответствие)\n",
    "* `!=` - строго НЕ равно"
   ]
  },
  {
   "cell_type": "code",
   "execution_count": 31,
   "metadata": {},
   "outputs": [
    {
     "name": "stdout",
     "output_type": "stream",
     "text": [
      "5 > 6 =False\n",
      "5 >= 5 =True\n",
      "5 > 5 =False\n",
      "5 == 5 =True\n",
      "5 < 20 =True\n",
      "5 != '5' =True\n"
     ]
    }
   ],
   "source": [
    "print( f\"{5 > 6 =}\" )\n",
    "print( f\"{5 >= 5 =}\" )\n",
    "print( f\"{5 > 5 =}\" )\n",
    "print( f\"{5 == 5 =}\" )\n",
    "print( f\"{5 < 20 =}\" )\n",
    "print( f\"{5 != '5' =}\" )"
   ]
  },
  {
   "cell_type": "markdown",
   "metadata": {},
   "source": [
    "## Логические операторы: and, or, in, not"
   ]
  },
  {
   "cell_type": "markdown",
   "metadata": {},
   "source": [
    "* `and` - логический оператор \"конъюнкция\" или логическое умножение. \"Если одно из условия не истинно, значит всё не истина. В противном случае истина\"\n",
    "* `or` - логический оператор \"дизюнкция\" или логическое сложение. \"Если одно из условия истинно, значит всё истина. А если все условия не истенны то не истина\"\n",
    "* `not` - отрицание или инверсия\n",
    "* `in` - проверка на принадлежность. *Работает только для итерируемых объектов"
   ]
  },
  {
   "cell_type": "markdown",
   "metadata": {},
   "source": [
    "! Также как и при работе с условными конструкциями выше, любое вырожение взятое в логический оператор или функци или конструкцию ВСЕГДА проходит булификацию(преобразование в bool)"
   ]
  },
  {
   "cell_type": "code",
   "execution_count": 35,
   "metadata": {},
   "outputs": [
    {
     "name": "stdout",
     "output_type": "stream",
     "text": [
      "not(True)=False\n",
      "not('')=True\n",
      "not('Не пустое')=False\n"
     ]
    }
   ],
   "source": [
    "print(f\"{not(True)=}\")\n",
    "print(f\"{not('')=}\")# '' сперва превратилась в bool => False, после чего произошло применение not и она вернула True\n",
    "print(f\"{not('Не пустое')=}\")# '' сперва превратилась в bool => True, после чего произошло применение not и она вернула False"
   ]
  },
  {
   "cell_type": "code",
   "execution_count": 38,
   "metadata": {},
   "outputs": [
    {
     "name": "stdout",
     "output_type": "stream",
     "text": [
      "not True=False\n",
      "+\n",
      "------------------------------\n",
      "5 > 5 and 6 == 6 =False\n",
      "True\n",
      "True\n",
      "------------------------------\n",
      "True\n",
      "True\n",
      "------------------------------\n",
      "True\n",
      "True\n"
     ]
    }
   ],
   "source": [
    "print(f\"{not True=}\")\n",
    "\n",
    "lst = []\n",
    "\n",
    "if not lst:\n",
    "    print('+')\n",
    "else:\n",
    "    print('-')\n",
    "\n",
    "print('---'*10)\n",
    "\n",
    "print(f\"{5 > 5 and 6 == 6 =}\")\n",
    "print(f\"{5 == 5 and 6 == 6 =}\")\n",
    "print(True and True)\n",
    "print('---'*10)\n",
    "print(True or False)\n",
    "print(False or True)\n",
    "print('---'*10)\n",
    "\n",
    "lst = [2,3,4,5,6,8,9]\n",
    "\n",
    "print(2 in lst)\n",
    "print(2 in lst and 4 in lst)"
   ]
  },
  {
   "cell_type": "markdown",
   "metadata": {},
   "source": []
  }
 ],
 "metadata": {
  "kernelspec": {
   "display_name": "Python 3",
   "language": "python",
   "name": "python3"
  },
  "language_info": {
   "codemirror_mode": {
    "name": "ipython",
    "version": 3
   },
   "file_extension": ".py",
   "mimetype": "text/x-python",
   "name": "python",
   "nbconvert_exporter": "python",
   "pygments_lexer": "ipython3",
   "version": "3.11.9"
  }
 },
 "nbformat": 4,
 "nbformat_minor": 2
}
