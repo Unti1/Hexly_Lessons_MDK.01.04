{
 "cells": [
  {
   "cell_type": "markdown",
   "metadata": {},
   "source": [
    "# Функции \n",
    "\n",
    "Функции представляют собой специальный блок кода, который можно вызвать множество раз.\n",
    "\n",
    "Чтобы создать функцию, нам нужно ключевое слово def, от англ. «define», что переводится, как «определять». То есть, мы как бы определяем функцию.\n",
    "\n",
    "## Синтаксис\n",
    "```python\n",
    "def имя_функции(*аргументы):\n",
    "    # тело функции\n",
    "    return результат\n",
    "```\n",
    "\n",
    "Параметр передающийся в функцию - называется аргумент.\n",
    "\n",
    "Аргумент функции - это специльная перемернная которая существует ТОЛЬКО внутри функции и может задавать значение при вызове её извне"
   ]
  },
  {
   "cell_type": "code",
   "execution_count": 1,
   "metadata": {},
   "outputs": [
    {
     "name": "stdout",
     "output_type": "stream",
     "text": [
      "Привет, мир!\n",
      "Привет, мир!\n",
      "None\n"
     ]
    }
   ],
   "source": [
    "def say_hello():\n",
    "    print(f\"Привет, мир!\")\n",
    "\n",
    "say_hello()\n",
    "\n",
    "print(say_hello())"
   ]
  },
  {
   "cell_type": "markdown",
   "metadata": {},
   "source": [
    "# Виды функций\n",
    "\n",
    "Функции можно разделить на несколько видов: обычные, принимающие, возвращающие и анонимные."
   ]
  },
  {
   "cell_type": "markdown",
   "metadata": {},
   "source": [
    "## **Принимающая** \n",
    "– это та функция, в момент создания которой мы определяем какое-то значение, которое она будет принимать, а значит в момент вызова функции мы также должны будем его передать."
   ]
  },
  {
   "cell_type": "code",
   "execution_count": 4,
   "metadata": {},
   "outputs": [
    {
     "name": "stdout",
     "output_type": "stream",
     "text": [
      "Hello, Вася\n"
     ]
    }
   ],
   "source": [
    "def say_hello(name):\n",
    "    print('Hello,', name)\n",
    "\n",
    "# print(name) #Ошибка, потому что name задана ТОЛЬКО внутри функции, внутри которой и будет работать\n",
    "say_hello(name=\"Вася\")\n",
    "\n",
    "print(say_hello(\"Иван\"))"
   ]
  },
  {
   "cell_type": "code",
   "execution_count": null,
   "metadata": {},
   "outputs": [],
   "source": []
  }
 ],
 "metadata": {
  "kernelspec": {
   "display_name": "Python 3",
   "language": "python",
   "name": "python3"
  },
  "language_info": {
   "codemirror_mode": {
    "name": "ipython",
    "version": 3
   },
   "file_extension": ".py",
   "mimetype": "text/x-python",
   "name": "python",
   "nbconvert_exporter": "python",
   "pygments_lexer": "ipython3",
   "version": "3.11.9"
  }
 },
 "nbformat": 4,
 "nbformat_minor": 2
}
