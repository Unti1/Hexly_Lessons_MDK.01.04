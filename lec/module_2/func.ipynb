{
 "cells": [
  {
   "cell_type": "markdown",
   "metadata": {},
   "source": [
    "# Функции \n",
    "\n",
    "Функции представляют собой специальный блок кода, который можно вызвать множество раз.\n",
    "\n",
    "Чтобы создать функцию, нам нужно ключевое слово def, от англ. «define», что переводится, как «определять». То есть, мы как бы определяем функцию.\n",
    "\n",
    "## Синтаксис\n",
    "```python\n",
    "def имя_функции(*аргументы):\n",
    "    # тело функции\n",
    "    return результат\n",
    "```\n",
    "\n",
    "Параметр передающийся в функцию - называется аргумент.\n",
    "\n",
    "Аргумент функции - это специльная перемернная которая существует ТОЛЬКО внутри функции и может задавать значение при вызове её извне"
   ]
  },
  {
   "cell_type": "code",
   "execution_count": 1,
   "metadata": {},
   "outputs": [
    {
     "name": "stdout",
     "output_type": "stream",
     "text": [
      "Привет, мир!\n",
      "Привет, мир!\n",
      "None\n"
     ]
    }
   ],
   "source": [
    "def say_hello():\n",
    "    print(f\"Привет, мир!\")\n",
    "\n",
    "say_hello()\n",
    "\n",
    "print(say_hello())"
   ]
  },
  {
   "cell_type": "markdown",
   "metadata": {},
   "source": [
    "# Виды функций\n",
    "\n",
    "Функции можно разделить на несколько видов: обычные, принимающие, возвращающие и анонимные."
   ]
  },
  {
   "cell_type": "markdown",
   "metadata": {},
   "source": [
    "## **Принимающая** \n",
    "– это та функция, в момент создания которой мы определяем какое-то значение, которое она будет принимать, а значит в момент вызова функции мы также должны будем его передать."
   ]
  },
  {
   "cell_type": "code",
   "execution_count": 3,
   "metadata": {},
   "outputs": [
    {
     "name": "stdout",
     "output_type": "stream",
     "text": [
      "Hello, Вася\n",
      "Hello, Иван\n",
      "None\n"
     ]
    }
   ],
   "source": [
    "def say_hello(name):\n",
    "    print('Hello,', name)\n",
    "\n",
    "# print(name) #Ошибка, потому что name задана ТОЛЬКО внутри функции, внутри которой и будет работать\n",
    "say_hello(name=\"Вася\")\n",
    "\n",
    "print(say_hello(\"Иван\"))"
   ]
  },
  {
   "cell_type": "markdown",
   "metadata": {},
   "source": [
    "После вызова функции, видим, какой результат она выдает в терминал. После чего видим выполнение функции print которая показала значение работы нашей функции (None). И как видим функция результата не выдает."
   ]
  },
  {
   "cell_type": "markdown",
   "metadata": {},
   "source": [
    "## **Возвращающая** \n",
    "– это та функция, которая нам что-то возвращает. А возвращать что-то она будет с помощью команды **return**."
   ]
  },
  {
   "cell_type": "code",
   "execution_count": 2,
   "metadata": {},
   "outputs": [
    {
     "name": "stdout",
     "output_type": "stream",
     "text": [
      "8\n"
     ]
    }
   ],
   "source": [
    "import random\n",
    "\n",
    "def lottery():\n",
    "    tickets = [1,2,3,4,5,6,7,8,9,10]\n",
    "    win = random.choice(tickets)\n",
    "    return win\n",
    "    print('Я функция')\n",
    "\n",
    "win = lottery()\n",
    "print(win)\n",
    "# print(lottery())\n",
    "    \n",
    "  "
   ]
  },
  {
   "cell_type": "markdown",
   "metadata": {},
   "source": [
    "return - помимо того что выводит результат из функции, она принудительно его и завершает в момент использования"
   ]
  },
  {
   "cell_type": "markdown",
   "metadata": {},
   "source": [
    "() в конце функции(когда вы её вызываете, а не определяете) называется вызовом(исполнением) функции"
   ]
  },
  {
   "cell_type": "markdown",
   "metadata": {},
   "source": [
    "## **Обычная функция** \n",
    "- Принимает аргумент(ы) и возвращает значение. В то же время, может и не содержать аргументов и не содержать вывода значения\n",
    "\n",
    "\n",
    "\\* Первый блок, тоже считается обычной функцией"
   ]
  },
  {
   "cell_type": "code",
   "execution_count": 23,
   "metadata": {},
   "outputs": [
    {
     "name": "stdout",
     "output_type": "stream",
     "text": [
      "Пн: 1 Вт: 6\n",
      "result=(1, 6)\n",
      "Вт: 6 Пн: 8\n",
      "result=(6, 8)\n",
      "Ср: 10 Сб: 9\n",
      "win1=10 | win2=9\n",
      "Ср: 6 Сб: 9\n",
      "x=6 | y=9\n",
      "x=6 | y=8  FROM result=(6, 8)\n"
     ]
    }
   ],
   "source": [
    "def lottery(day1, day2):\n",
    "    tickets = [1,2,3,4,5,6,7,8,9,10]\n",
    "    \n",
    "    win1 = random.choice(tickets)\n",
    "    tickets.remove(win1)\n",
    "    win2 = random.choice(tickets)\n",
    "\n",
    "    print(f'{day1}: {win1}', f\"{day2}: {win2}\")\n",
    "    \n",
    "    return win1, win2\n",
    "\n",
    "# print(lottery('1','2'))\n",
    "# result = lottery('Пн')\n",
    "result = lottery('Пн', 'Вт')\n",
    "print(f'{result=}')\n",
    "\n",
    "result = lottery(day2='Пн', day1='Вт')\n",
    "print(f'{result=}')\n",
    "\n",
    "# Также можно выводить ответ не только в конкретную переменную, а в каждую отделюную, если известно конечное количество возвращаемых значений функции\n",
    "# Это тоже называется распоковкой\n",
    "win1, win2 = lottery('Ср', 'Сб')\n",
    "print(f'{win1=} | {win2=}')\n",
    "\n",
    "x, y = lottery('Ср', 'Сб')\n",
    "print(f'{x=} | {y=}')\n",
    "\n",
    "# x,  = lottery('Ср', 'Сб')\n",
    "# x, y, z = lottery('Ср', 'Сб')\n",
    "x,y = result\n",
    "print(f'{x=} | {y=}  FROM {result=}')"
   ]
  },
  {
   "cell_type": "markdown",
   "metadata": {},
   "source": [
    "# Произвольное количество параметров функции\n",
    "\n",
    "- Функция помимо того что может принимать определенное количество аргументов, также может принимать и неограниченное количество аргументов. НО для использования этого способа, нам потребуется определенная конструкция внутри функции.\n",
    "\n",
    "*args (arguments)- принимает ВСЕ аргументы <u>выходящие за пределы объявленных аргументов</u> и не имеющих определенное название.\n",
    "\n",
    "**kwargs (key word arguments) - принимает ВСЕ аргументы, НО если <u>указано название</u> каждого из них"
   ]
  },
  {
   "cell_type": "code",
   "execution_count": 29,
   "metadata": {},
   "outputs": [
    {
     "name": "stdout",
     "output_type": "stream",
     "text": [
      "x='Пн' | args=() | kwargs={}\n",
      "x='Пн' | args=('Вт',) | kwargs={}\n",
      "x=10 | args=() | kwargs={'key1': 'value1'}\n",
      "x=22 | args=() | kwargs={'key1': 'value1', 'key2': 'value2'}\n"
     ]
    },
    {
     "ename": "TypeError",
     "evalue": "lottery() missing 1 required positional argument: 'x'",
     "output_type": "error",
     "traceback": [
      "\u001b[1;31m---------------------------------------------------------------------------\u001b[0m",
      "\u001b[1;31mTypeError\u001b[0m                                 Traceback (most recent call last)",
      "Cell \u001b[1;32mIn[29], line 11\u001b[0m\n\u001b[0;32m      9\u001b[0m lottery(x\u001b[38;5;241m=\u001b[39m\u001b[38;5;241m10\u001b[39m, key1\u001b[38;5;241m=\u001b[39m\u001b[38;5;124m'\u001b[39m\u001b[38;5;124mvalue1\u001b[39m\u001b[38;5;124m'\u001b[39m)\n\u001b[0;32m     10\u001b[0m lottery(x\u001b[38;5;241m=\u001b[39m\u001b[38;5;241m22\u001b[39m, key1\u001b[38;5;241m=\u001b[39m\u001b[38;5;124m'\u001b[39m\u001b[38;5;124mvalue1\u001b[39m\u001b[38;5;124m'\u001b[39m, key2\u001b[38;5;241m=\u001b[39m\u001b[38;5;124m'\u001b[39m\u001b[38;5;124mvalue2\u001b[39m\u001b[38;5;124m'\u001b[39m)\n\u001b[1;32m---> 11\u001b[0m \u001b[43mlottery\u001b[49m\u001b[43m(\u001b[49m\u001b[43mkey1\u001b[49m\u001b[38;5;241;43m=\u001b[39;49m\u001b[38;5;124;43m'\u001b[39;49m\u001b[38;5;124;43mvalue1\u001b[39;49m\u001b[38;5;124;43m'\u001b[39;49m\u001b[43m)\u001b[49m\n\u001b[0;32m     12\u001b[0m lottery(key1\u001b[38;5;241m=\u001b[39m\u001b[38;5;124m'\u001b[39m\u001b[38;5;124mvalue1\u001b[39m\u001b[38;5;124m'\u001b[39m, key2\u001b[38;5;241m=\u001b[39m\u001b[38;5;124m'\u001b[39m\u001b[38;5;124mvalue2\u001b[39m\u001b[38;5;124m'\u001b[39m)\n",
      "\u001b[1;31mTypeError\u001b[0m: lottery() missing 1 required positional argument: 'x'"
     ]
    }
   ],
   "source": [
    "def lottery(x, *args, **kwargs):\n",
    "    print(f'{x=} | {args=} | {kwargs=}') \n",
    "\n",
    "    return None\n",
    "\n",
    "# lottery() # Не задан 1 позиционный аргумент\n",
    "lottery('Пн')\n",
    "lottery('Пн', 'Вт')\n",
    "# lottery(key1='value1') # Не задан 1 позиционный аргумент\n",
    "# lottery(key1='value1', key2='value2') # Не задан 1 позиционный аргумент\n",
    "lottery(x=10, key1='value1')\n",
    "lottery(x=22, key1='value1', key2='value2')\n"
   ]
  },
  {
   "cell_type": "markdown",
   "metadata": {},
   "source": [
    "Подобную историю можно исравить, если мы укажем позиционный аргумент как заданный по умолчанию "
   ]
  },
  {
   "cell_type": "code",
   "execution_count": 33,
   "metadata": {},
   "outputs": [
    {
     "name": "stdout",
     "output_type": "stream",
     "text": [
      "x=10 | args=() | kwargs={}\n",
      "x='Пн' | args=() | kwargs={}\n",
      "x='Пн' | args=('Вт',) | kwargs={}\n",
      "x=10 | args=() | kwargs={'key1': 'value1'}\n",
      "x=10 | args=() | kwargs={'key1': 'value1', 'key2': 'value2'}\n",
      "x=15 | args=() | kwargs={'key1': 'value1'}\n",
      "x=22 | args=() | kwargs={'key1': 'value1', 'key2': 'value2'}\n"
     ]
    }
   ],
   "source": [
    "def lottery(x = 10, *args, **kwargs):\n",
    "    print(f'{x=} | {args=} | {kwargs=}') \n",
    "    return None\n",
    "\n",
    "lottery()\n",
    "lottery('Пн')\n",
    "lottery('Пн', 'Вт')\n",
    "lottery(key1='value1')\n",
    "lottery(key1='value1', key2='value2')\n",
    "lottery(15, key1='value1')\n",
    "lottery(x=22, key1='value1', key2='value2')\n"
   ]
  },
  {
   "cell_type": "code",
   "execution_count": 35,
   "metadata": {},
   "outputs": [
    {
     "name": "stdout",
     "output_type": "stream",
     "text": [
      "x=10| y='Пн' | args=() | kwargs={}\n",
      "x='Вт'| y='Пн' | args=() | kwargs={}\n",
      "x=10| y=15 | args=() | kwargs={'key1': 'value1'}\n"
     ]
    },
    {
     "ename": "TypeError",
     "evalue": "lottery() missing 1 required positional argument: 'y'",
     "output_type": "error",
     "traceback": [
      "\u001b[1;31m---------------------------------------------------------------------------\u001b[0m",
      "\u001b[1;31mTypeError\u001b[0m                                 Traceback (most recent call last)",
      "Cell \u001b[1;32mIn[35], line 10\u001b[0m\n\u001b[0;32m      7\u001b[0m \u001b[38;5;66;03m# lottery(key1='value1')# Не задан 1 позиционный аргумент\u001b[39;00m\n\u001b[0;32m      8\u001b[0m \u001b[38;5;66;03m# lottery(key1='value1', key2='value2')# Не задан 1 позиционный аргумент\u001b[39;00m\n\u001b[0;32m      9\u001b[0m lottery(\u001b[38;5;241m15\u001b[39m, key1\u001b[38;5;241m=\u001b[39m\u001b[38;5;124m'\u001b[39m\u001b[38;5;124mvalue1\u001b[39m\u001b[38;5;124m'\u001b[39m)\n\u001b[1;32m---> 10\u001b[0m \u001b[43mlottery\u001b[49m\u001b[43m(\u001b[49m\u001b[43mx\u001b[49m\u001b[38;5;241;43m=\u001b[39;49m\u001b[38;5;241;43m22\u001b[39;49m\u001b[43m,\u001b[49m\u001b[43m \u001b[49m\u001b[43mkey1\u001b[49m\u001b[38;5;241;43m=\u001b[39;49m\u001b[38;5;124;43m'\u001b[39;49m\u001b[38;5;124;43mvalue1\u001b[39;49m\u001b[38;5;124;43m'\u001b[39;49m\u001b[43m,\u001b[49m\u001b[43m \u001b[49m\u001b[43mkey2\u001b[49m\u001b[38;5;241;43m=\u001b[39;49m\u001b[38;5;124;43m'\u001b[39;49m\u001b[38;5;124;43mvalue2\u001b[39;49m\u001b[38;5;124;43m'\u001b[39;49m\u001b[43m)\u001b[49m\n",
      "\u001b[1;31mTypeError\u001b[0m: lottery() missing 1 required positional argument: 'y'"
     ]
    }
   ],
   "source": [
    "def lottery(y, x = 10, *args, **kwargs):\n",
    "    print(f'{x=}| {y=} | {args=} | {kwargs=}') \n",
    "    return None\n",
    "\n",
    "lottery('Пн')\n",
    "lottery('Пн', 'Вт')\n",
    "# lottery(key1='value1')# Не задан 1 позиционный аргумент\n",
    "# lottery(key1='value1', key2='value2')# Не задан 1 позиционный аргумент\n",
    "lottery(15, key1='value1')\n",
    "# lottery(x=22, key1='value1', key2='value2') # Не задан 1 позиционный аргумент"
   ]
  },
  {
   "cell_type": "code",
   "execution_count": 42,
   "metadata": {},
   "outputs": [
    {
     "name": "stdout",
     "output_type": "stream",
     "text": [
      " Понедельник : 55346 | Вторник : 60393\n",
      "Вывод функции: (55346, 60393). Необработанные аргументы: (), {}\n",
      " Среда : 19209 | Вторник : 92121\n",
      "Вывод функции: (19209, 92121). Необработанные аргументы: (), {}\n",
      " Среда : 9397 | Пятница : 40464\n",
      "Вывод функции: (9397, 40464). Необработанные аргументы: (), {}\n",
      " Среда : 76468 | Пятница : 75632\n",
      "Вывод функции: (76468, 75632). Необработанные аргументы: ('Суббота',), {}\n",
      " Среда : 34305 | Пятница : 26127\n",
      "Вывод функции: (34305, 26127). Необработанные аргументы: ('Суббота',), {'win': 1204525}\n"
     ]
    }
   ],
   "source": [
    "def lottery(day1 = 'Понедельник', day2 = 'Вторник', *args, **kwargs):\n",
    "    tickets = list(range(1, 100000))\n",
    "\n",
    "    win1 = random.choice(tickets)\n",
    "    tickets.remove(win1)\n",
    "    win2 = random.choice(tickets)\n",
    "    print(f' {day1} : {win1} | {day2} : {win2}') \n",
    "    print(f'Вывод функции: {(win1, win2)}. Необработанные аргументы: {args}, {kwargs}')\n",
    "\n",
    "    return win1, win2\n",
    "\n",
    "w1, w2 = lottery()\n",
    "w1, w2 = lottery('Среда')\n",
    "w1, w2 = lottery('Среда', 'Пятница')\n",
    "w1, w2 = lottery('Среда', 'Пятница', 'Суббота')\n",
    "w1, w2 = lottery('Среда', 'Пятница', 'Суббота', win=1204525)\n"
   ]
  },
  {
   "cell_type": "markdown",
   "metadata": {},
   "source": [
    "# Комбинированное использование\n",
    "- мы можем использовать все типы определения аргументов НО в определенной последовательности"
   ]
  },
  {
   "cell_type": "code",
   "execution_count": 51,
   "metadata": {},
   "outputs": [
    {
     "name": "stdout",
     "output_type": "stream",
     "text": [
      "Произведение: 1 * 2 = 2\n",
      "Произведение: 2 * 3 = 6\n",
      "Произведение: 6 * 4 = 24\n",
      "func_proizv(2, 3, 4)=24\n",
      "Произведение: 1 * 4 = 4\n",
      "Произведение: 4 * 3 = 12\n",
      "Произведение: 12 * 2 = 24\n",
      "func_proizv(2, 3, 4, reverse=True)=24\n"
     ]
    }
   ],
   "source": [
    "def func_proizv(*array, reverse=False):\n",
    "    result = 1 # Это у нас финальный резульатат\n",
    "    array = list(array) # Для того чтобы мы могли использовать args не как кортеж, мы переводим его в список\n",
    "    if reverse:\n",
    "        array.reverse()\n",
    "\n",
    "    for i in array:\n",
    "        print(f'Произведение: {result} * {i} = ', end='')\n",
    "        result *= i\n",
    "        print(f'{result}')\n",
    "    \n",
    "    return result\n",
    "\n",
    "print(f'{func_proizv(2, 3, 4)=}')\n",
    "\n",
    "\n",
    "print(f'{func_proizv(2, 3, 4, reverse=True)=}')\n",
    "\n"
   ]
  },
  {
   "cell_type": "markdown",
   "metadata": {},
   "source": [
    "## Аннотации аргументов и выходных значений\n",
    "Аннотация -- это определенная подсказка(подпись) для компилятора о том какой тип данных мы <u>бы хотели тут видеть</u>. Также аннотации нужны не для конечного пользователя программой, а для самого разработчика."
   ]
  },
  {
   "cell_type": "markdown",
   "metadata": {},
   "source": [
    "Предположим мы выполняем задачу по поиску и подсчету количества символов в строке. Но человек который пишет функцию задает её неправильно и непонятно обзывая её func и принимающая аргумент t, также мы не знаем что мы получаем на выходе "
   ]
  },
  {
   "cell_type": "code",
   "execution_count": 52,
   "metadata": {},
   "outputs": [
    {
     "name": "stdout",
     "output_type": "stream",
     "text": [
      "{'H': 1, 'e': 1, 'l': 3, 'o': 2, ' ': 1, 'w': 1, 'r': 1, 'd': 1, '!': 1}\n",
      "1\n"
     ]
    }
   ],
   "source": [
    "# Не записывать значящие общие функции вот так. Этот пример лишь для демонстрации понятия аннотаций.\n",
    "\n",
    "def func(t: str, *args) -> dict:\n",
    "    dct_letters = {}\n",
    "    for sym in t:\n",
    "        dct_letters[sym] = t.count(sym)\n",
    "    return dct_letters\n",
    "\n",
    "ans = func(\"Hello world!\")\n",
    "print(ans)\n",
    "print(ans.get('H'))\n",
    "\n",
    "\n"
   ]
  },
  {
   "cell_type": "markdown",
   "metadata": {},
   "source": [
    "Для того чтобы поставить аннотацию для какого либо аргумента, или параметра, мы используем `*аргумент*: *тип данных*`\n",
    "Например\n",
    "\n",
    "```python\n",
    "def func(t: str, y: int, **kwargs: dict):\n",
    "```\n",
    "\n",
    "Для того чтобы задать ожидаемый вывод программы мы в конце () поставленных при объявлении функции записываем конструкцию `-> *тип данных*`\n",
    "\n",
    "Например\n",
    "```python\n",
    "def func(t: str, *args: tuple) -> dict:\n",
    "```\n"
   ]
  },
  {
   "cell_type": "markdown",
   "metadata": {},
   "source": [
    "Когда может быть несколько разных в одном аргументе"
   ]
  },
  {
   "cell_type": "code",
   "execution_count": 53,
   "metadata": {},
   "outputs": [
    {
     "name": "stdout",
     "output_type": "stream",
     "text": [
      "('string', <class 'str'>)\n",
      "([1, 2, 3], <class 'list'>)\n",
      "(2, <class 'int'>)\n"
     ]
    }
   ],
   "source": [
    "def func(text: str|list) -> list|str:\n",
    "    return text, type(text)\n",
    "\n",
    "print(func('string'))\n",
    "print(func([1,2,3]))\n",
    "print(func(2)) # тоже будет работать несмотря на то что аннотации не прописаны под число"
   ]
  },
  {
   "cell_type": "markdown",
   "metadata": {},
   "source": [
    "Аннотирование внутренних элементов итерируемого объекта (list[str])\n",
    "\n",
    "Представим ситуацию, у нас функция принимает список строк, и каждую строчку нам нужно поднять в верхн регистр"
   ]
  },
  {
   "cell_type": "code",
   "execution_count": 54,
   "metadata": {},
   "outputs": [],
   "source": [
    "def func(list_of_texts: list[str]):\n",
    "    lst = []\n",
    "    for text in list_of_texts:\n",
    "        lst.append(text.upper())\n",
    "\n",
    "    return lst\n",
    "\n",
    "lst_result = func(['string', 'string2', 'string3'])"
   ]
  },
  {
   "cell_type": "markdown",
   "metadata": {},
   "source": [
    "## Аннотирование выходных параметров\n",
    "\n",
    "Представим ситуацию что lst внутри func задается не напрямую пустым списком говоря нам о том какой тип данных будет выходной, а задается с помощью функции"
   ]
  },
  {
   "cell_type": "code",
   "execution_count": 55,
   "metadata": {},
   "outputs": [
    {
     "data": {
      "text/plain": [
       "['STRING', 'STRING2', 'STRING3']"
      ]
     },
     "execution_count": 55,
     "metadata": {},
     "output_type": "execute_result"
    }
   ],
   "source": [
    "# def func(list_of_texts: list[str|int]): # использование int\n",
    "\n",
    "def generate_data() -> str|list|dict:\n",
    "    data: list = []\n",
    "    return data\n",
    "\n",
    "def func(list_of_texts: list[str]) -> list[str]:\n",
    "    lst = generate_data()\n",
    "    for text in list_of_texts:\n",
    "        lst.append(text.upper())\n",
    "\n",
    "    return lst\n",
    "\n",
    "lst_result = func(['string', 'string2', 'string3'])\n",
    "lst_result"
   ]
  },
  {
   "cell_type": "markdown",
   "metadata": {},
   "source": []
  }
 ],
 "metadata": {
  "kernelspec": {
   "display_name": "Python 3",
   "language": "python",
   "name": "python3"
  },
  "language_info": {
   "codemirror_mode": {
    "name": "ipython",
    "version": 3
   },
   "file_extension": ".py",
   "mimetype": "text/x-python",
   "name": "python",
   "nbconvert_exporter": "python",
   "pygments_lexer": "ipython3",
   "version": "3.11.9"
  }
 },
 "nbformat": 4,
 "nbformat_minor": 2
}
