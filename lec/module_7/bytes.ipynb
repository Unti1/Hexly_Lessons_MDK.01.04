{
 "cells": [
  {
   "cell_type": "markdown",
   "metadata": {},
   "source": [
    "# Введение. Строки байты и кодировки"
   ]
  },
  {
   "cell_type": "markdown",
   "metadata": {},
   "source": [
    "ord(*значение*) - переводит значение в восмиричный формат представления"
   ]
  },
  {
   "cell_type": "code",
   "execution_count": 5,
   "metadata": {},
   "outputs": [
    {
     "name": "stdout",
     "output_type": "stream",
     "text": [
      "Hello\n",
      "ord(\"a\")=97\n",
      "ord(\"A\")=65\n",
      "ord('Й')=1049\n"
     ]
    }
   ],
   "source": [
    "print('Hello') # Стандартное человеческое восприятие\n",
    "print(f'{ord(\"a\")=}')\n",
    "print(f'{ord(\"A\")=}')\n",
    "print(f\"{ord('Й')=}\")"
   ]
  },
  {
   "cell_type": "code",
   "execution_count": 7,
   "metadata": {},
   "outputs": [
    {
     "name": "stdout",
     "output_type": "stream",
     "text": [
      "[72, 101, 108, 108, 111]\n",
      "[1055, 1088, 1080, 1074, 1077, 1090]\n"
     ]
    }
   ],
   "source": [
    "text = 'Hello'\n",
    "text2 = 'Привет'\n",
    "chars = []\n",
    "for sym in text:\n",
    "    chars.append(ord(sym))\n",
    "print(chars)\n",
    "# print(ord(text)) # Перевести в байты полную строку невозможно стандартным ord методом\n",
    "\n",
    "chars = []\n",
    "for sym in text2:\n",
    "    chars.append(ord(sym))\n",
    "print(chars)"
   ]
  },
  {
   "cell_type": "markdown",
   "metadata": {},
   "source": [
    "Вернем наборы байтов в стандартный человко-читаемый формат\n",
    "- chr(char-символ) - делает перевод из алфовида байт в символ. Также как и ord работает ТОЛЬКО с одним символом"
   ]
  },
  {
   "cell_type": "code",
   "execution_count": 8,
   "metadata": {},
   "outputs": [
    {
     "name": "stdout",
     "output_type": "stream",
     "text": [
      "Привет\n"
     ]
    }
   ],
   "source": [
    "string = ''\n",
    "for ch in chars:\n",
    "    string += chr(ch)\n",
    "print(string)"
   ]
  },
  {
   "cell_type": "markdown",
   "metadata": {},
   "source": [
    "Давайте посмотрим на простой код вывода алфовита в 1 байт информации"
   ]
  },
  {
   "cell_type": "code",
   "execution_count": 15,
   "metadata": {},
   "outputs": [
    {
     "name": "stdout",
     "output_type": "stream",
     "text": [
      "\u0000  \u0001  \u0002  \u0003  \u0004  \u0005  \u0006  \u0007   \t  \n",
      "  \u000e  \u000f  \u0010  \u0011  \u0012  \u0013  \u0014  \u0015  \u0016  \u0017  \u0018  \u0019  \u001a  \u001b  \u001c  \u001d  \u001e  \u001f     !  \"  #  $  %  &  '  (  )  *  +  ,  -  .  /  0  1  2  3  4  5  6  7  8  9  :  ;  <  =  >  ?  @  A  B  C  D  E  F  G  H  I  J  K  L  M  N  O  P  Q  R  S  T  U  V  W  X  Y  Z  [  \\  ]  ^  _  `  a  b  c  d  e  f  g  h  i  j  k  l  m  n  o  p  q  r  s  t  u  v  w  x  y  z  {  |  }  ~                                                                       ¡  ¢  £  ¤  ¥  ¦  §  ¨  ©  ª  «  ¬  ­  ®  ¯  °  ±  ²  ³  ´  µ  ¶  ·  ¸  ¹  º  »  ¼  ½  ¾  ¿  À  Á  Â  Ã  Ä  Å  Æ  Ç  È  É  Ê  Ë  Ì  Í  Î  Ï  Ð  Ñ  Ò  Ó  Ô  Õ  Ö  ×  Ø  Ù  Ú  Û  Ü  Ý  Þ  ß  à  á  â  ã  ä  å  æ  ç  è  é  ê  ë  ì  í  î  ï  ð  ñ  ò  ó  ô  õ  ö  ÷  ø  ù  ú  û  ü  ý  þ  ÿ  \n",
      "10\n",
      "9\n"
     ]
    }
   ],
   "source": [
    "for i in range(256):\n",
    "    print(f'{chr(i)}', end = '  ') # Выводит символы от 0 до 255, каждый с новой строки\n",
    "print()\n",
    "print(ord('\\n'))\n",
    "print(ord('\\t'))\n"
   ]
  },
  {
   "cell_type": "code",
   "execution_count": 16,
   "metadata": {},
   "outputs": [
    {
     "name": "stdout",
     "output_type": "stream",
     "text": [
      "104\n",
      "0x68\n",
      "0o150\n",
      "0b1101000\n"
     ]
    }
   ],
   "source": [
    "print(ord('h'))\n",
    "print(hex(ord('h')))\n",
    "print(oct(ord('h')))\n",
    "print(bin(ord('h')))\n",
    "# Перевод из 16ричной обратно в 10тичную систему счисления: 8 + 6*16 = 104\n",
    "# Перевод из 8ричной в 10тичную систему счисления: 0*(8^0) + 5*(8^1) + 1 * (8^2) = 104\n",
    "# Перевод из 2ричной в 10тичную систему счисления: 0 + 0 + 0 + 1*(2^3) + 0 + 1*(2^5) + 1*(2^6) = 104\n"
   ]
  },
  {
   "cell_type": "markdown",
   "metadata": {},
   "source": [
    "Байтовая строка - это тип данных обычной строки с препиской b, которая в дальнейшем указывает на тот символ который в ней закодирован. \n",
    "\n",
    "b\"\""
   ]
  },
  {
   "cell_type": "code",
   "execution_count": 21,
   "metadata": {},
   "outputs": [
    {
     "name": "stdout",
     "output_type": "stream",
     "text": [
      "bb=b'h' | <class 'bytes'> | bb.decode()='h'\n",
      "h\n"
     ]
    }
   ],
   "source": [
    "bb = b'\\x68'\n",
    "print(f\"{bb=} | {type(bb)} | {bb.decode()=}\")\n",
    "print(bb.decode())"
   ]
  },
  {
   "cell_type": "markdown",
   "metadata": {},
   "source": [
    "Байтовая строка в декодировании информации, работает только с 16-ричным форматов ввода"
   ]
  }
 ],
 "metadata": {
  "kernelspec": {
   "display_name": "Python 3",
   "language": "python",
   "name": "python3"
  },
  "language_info": {
   "codemirror_mode": {
    "name": "ipython",
    "version": 3
   },
   "file_extension": ".py",
   "mimetype": "text/x-python",
   "name": "python",
   "nbconvert_exporter": "python",
   "pygments_lexer": "ipython3",
   "version": "3.11.9"
  }
 },
 "nbformat": 4,
 "nbformat_minor": 2
}
