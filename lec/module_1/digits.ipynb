{
 "cells": [
  {
   "cell_type": "markdown",
   "metadata": {},
   "source": [
    "# Целочисленный тип данных - `[int]` - Integer"
   ]
  },
  {
   "cell_type": "markdown",
   "metadata": {},
   "source": [
    "- Целочисленный тип данных -- характерезует целое число (без остатка)"
   ]
  },
  {
   "cell_type": "code",
   "execution_count": 1,
   "metadata": {},
   "outputs": [
    {
     "name": "stdout",
     "output_type": "stream",
     "text": [
      "23 <class 'int'>\n",
      "-53 <class 'int'>\n",
      "4568 <class 'int'>\n",
      "0 <class 'int'>\n",
      "0 <class 'int'>\n",
      "20 <class 'int'>\n",
      "0 <class 'int'>\n",
      "10 <class 'int'>\n"
     ]
    }
   ],
   "source": [
    "x = 23\n",
    "print(x, type(x))\n",
    "\n",
    "x = -53\n",
    "print(x, type(x))\n",
    "\n",
    "x = 4568\n",
    "print(x, type(x))\n",
    "\n",
    "x = 0\n",
    "print(x, type(x))\n",
    "\n",
    "x = int() # это 0, в этом месте мы создали пустой тип данных целого числа\n",
    "print(x, type(x))\n",
    "\n",
    "x = int('10') # преобразование типа данных из str -> int\n",
    "x += 10\n",
    "print(x, type(x))\n",
    "\n",
    "x = int(0.99) # int, НЕ округляет значения, а просто отбрасывает дробную часть\n",
    "print(x, type(x))\n",
    "x = int(10.9) # int, НЕ округляет значения, а просто отбрасывает дробную часть\n",
    "print(x, type(x))"
   ]
  },
  {
   "cell_type": "markdown",
   "metadata": {},
   "source": [
    "# **Вещественный** тип данных - `[float]` - Float digit\n",
    "\n",
    "- Вещественный тип данных -- характерезует дробное(плавающее) число (с остатком, даже если он нулевой)"
   ]
  },
  {
   "cell_type": "code",
   "execution_count": 13,
   "metadata": {},
   "outputs": [
    {
     "name": "stdout",
     "output_type": "stream",
     "text": [
      "5.5 <class 'float'>\n",
      "0.5 <class 'float'>\n",
      "-0.5 <class 'float'>\n",
      "-5.5 <class 'float'>\n",
      "0.0 <class 'float'>\n",
      "6.0 <class 'float'>\n",
      "2.5 <class 'float'>\n",
      "y=0.5 - <class 'float'>\n"
     ]
    }
   ],
   "source": [
    "y = 5.5\n",
    "print(y, type(y)) \n",
    "\n",
    "y = .5\n",
    "print(y, type(y)) \n",
    "\n",
    "y = -.5\n",
    "print(y, type(y))\n",
    "\n",
    "y = - 5.5\n",
    "print(y, type(y)) \n",
    "\n",
    "y = float()\n",
    "print(y, type(y)) \n",
    "\n",
    "y = float('6')\n",
    "print(y, type(y))\n",
    "\n",
    "y = float('2.5')\n",
    "print(y, type(y))\n",
    "\n",
    "# y = float('2.5.')# Ошибка, при нарушении формата записи числа, нарушается и сам процесс перевода в другой тип \n",
    "# print(y, type(y))\n",
    "\n",
    "y = float('.5')\n",
    "print(f'{y=} - {type(y)}')"
   ]
  },
  {
   "cell_type": "markdown",
   "metadata": {},
   "source": [
    "# Математические операции"
   ]
  },
  {
   "cell_type": "code",
   "execution_count": 15,
   "metadata": {},
   "outputs": [
    {
     "name": "stdout",
     "output_type": "stream",
     "text": [
      "15\n",
      "5\n",
      "50\n",
      "res=100 | <class 'int'>\n",
      "res=3.1622776601683795 | <class 'float'>\n",
      "res=2.0 | <class 'float'>\n",
      "res=2 | <class 'int'>\n",
      "res=2 | <class 'int'>\n",
      "0\n",
      "1\n",
      "24\n",
      "14\n"
     ]
    }
   ],
   "source": [
    "x = 10\n",
    "print(x + 5)\n",
    "print(x - 5)\n",
    "print(x * 5)\n",
    "\n",
    "res = x ** 2 # возведение в степень (перемення) ** (сама степень числа)\n",
    "print(f'{res=} | {type(res)}')\n",
    "\n",
    "res = x ** (1/2) # пример с квадратным корнем\n",
    "print(f'{res=} | {type(res)}') # возведение в степень (перемення) ** (сама степень числа)\n",
    "\n",
    "res = x / 5 # получили float, это стандарт деления в языках программирования. Когда из 2 целвых чисел при делении\n",
    "print(f'{res=} | {type(res)}') \n",
    "\n",
    "res = x // 5\n",
    "print(f'{res=} | {type(res)}') # Целочисленное деление (остаток отбрасывается)\n",
    "\n",
    "res = 13//5\n",
    "print(f'{res=} | {type(res)}')\n",
    "\n",
    "res = x % 5 # Остаточное деление (когда мы получаем остаток от деления)\n",
    "print(f'{res=} | {type(res)}')\n",
    "\n",
    "print(7 % 2)\n",
    "print(f'{res=} | {type(res)}')\n",
    "\n",
    "# Порядок вычесления(аналогичен алгебраическому)\n",
    "\"\"\"\n",
    "() - 0\n",
    "** - 1\n",
    "*, /, //, % - 2\n",
    "+, - - 3\n",
    "\"\"\"\n",
    "print(2*3*4)\n",
    "print(2*(3+4))\n",
    "\n"
   ]
  },
  {
   "cell_type": "code",
   "execution_count": null,
   "metadata": {},
   "outputs": [],
   "source": []
  }
 ],
 "metadata": {
  "kernelspec": {
   "display_name": "Python 3",
   "language": "python",
   "name": "python3"
  },
  "language_info": {
   "codemirror_mode": {
    "name": "ipython",
    "version": 3
   },
   "file_extension": ".py",
   "mimetype": "text/x-python",
   "name": "python",
   "nbconvert_exporter": "python",
   "pygments_lexer": "ipython3",
   "version": "3.11.9"
  }
 },
 "nbformat": 4,
 "nbformat_minor": 2
}
