{
 "cells": [
  {
   "cell_type": "markdown",
   "metadata": {},
   "source": [
    "# Кортеж - `[tuple]` - он же неизменяемый список(массив)\n",
    "\n",
    "Кортеж -- неизменяемый итерируемый(не один объект, а связка объектов, с которыми можно взаимодействовать) тип данных. \n",
    "\n",
    "## Cвойства\n",
    "\n",
    "- Неизменяемый\n",
    "- Индексируемый\n",
    "- Хранит любой тип данных\n",
    "\n",
    "## Синтаксис: \n",
    "\n",
    "( ,x1, x2, x3, ..., xN) -- при этом x может быть любым объектом, любого типа данных.\n",
    "() -- пустой кортеж\n",
    "## Индексация\n",
    "\n",
    "Стандартная\n"
   ]
  },
  {
   "cell_type": "code",
   "execution_count": 2,
   "metadata": {},
   "outputs": [],
   "source": [
    "tup = ()\n",
    "tup2 = (2, 3, 4)\n",
    "tup3 = (2, \"string\", 56.65, 'string2')"
   ]
  },
  {
   "cell_type": "code",
   "execution_count": 3,
   "metadata": {},
   "outputs": [
    {
     "name": "stdout",
     "output_type": "stream",
     "text": [
      "3\n",
      "(2, 'string')\n",
      "(56.65, 'string2')\n",
      "(2, 56.65)\n"
     ]
    }
   ],
   "source": [
    "print(tup2[1])\n",
    "print(tup3[:2])\n",
    "print(tup3[2:])\n",
    "print(tup3[::2])"
   ]
  },
  {
   "cell_type": "markdown",
   "metadata": {},
   "source": [
    "# Методы кортежа "
   ]
  },
  {
   "cell_type": "markdown",
   "metadata": {},
   "source": [
    "Методов всего 2 - `.index(...)` и `.count(...)` которые работают точно также как и в списках."
   ]
  },
  {
   "cell_type": "code",
   "execution_count": 4,
   "metadata": {},
   "outputs": [
    {
     "name": "stdout",
     "output_type": "stream",
     "text": [
      "tup3=(2, 'string', 56.65, 'string2')\n",
      "tup3.count(1)=0\n",
      "tup3.count(2)=1\n",
      "tup3.count(3)=0\n",
      "tup3.count(4)=0\n"
     ]
    }
   ],
   "source": [
    "print(f'{tup3=}')\n",
    "print(f'{tup3.count(1)=}')\n",
    "print(f'{tup3.count(2)=}')"
   ]
  },
  {
   "cell_type": "code",
   "execution_count": 11,
   "metadata": {},
   "outputs": [
    {
     "name": "stdout",
     "output_type": "stream",
     "text": [
      "(2, 3, 4) (2, 'string', 56.65, 'string2')\n",
      "0\n",
      "1\n",
      "finding_index=0\n",
      "finding_index=1\n"
     ]
    },
    {
     "ename": "ValueError",
     "evalue": "tuple.index(x): x not in tuple",
     "output_type": "error",
     "traceback": [
      "\u001b[1;31m---------------------------------------------------------------------------\u001b[0m",
      "\u001b[1;31mValueError\u001b[0m                                Traceback (most recent call last)",
      "Cell \u001b[1;32mIn[11], line 11\u001b[0m\n\u001b[0;32m      9\u001b[0m finding_index \u001b[38;5;241m=\u001b[39m tup2\u001b[38;5;241m.\u001b[39mindex(\u001b[38;5;241m3\u001b[39m) \u001b[38;5;66;03m# сохраняет индекс первого совпаденя слева\u001b[39;00m\n\u001b[0;32m     10\u001b[0m \u001b[38;5;28mprint\u001b[39m(\u001b[38;5;124mf\u001b[39m\u001b[38;5;124m'\u001b[39m\u001b[38;5;132;01m{\u001b[39;00mfinding_index\u001b[38;5;132;01m=}\u001b[39;00m\u001b[38;5;124m'\u001b[39m)\n\u001b[1;32m---> 11\u001b[0m \u001b[38;5;28mprint\u001b[39m(\u001b[43mtup2\u001b[49m\u001b[38;5;241;43m.\u001b[39;49m\u001b[43mindex\u001b[49m\u001b[43m(\u001b[49m\u001b[38;5;241;43m5\u001b[39;49m\u001b[43m)\u001b[49m) \u001b[38;5;66;03m# попытка вывести индекс значения которого нет -- приведет к ошибке ValueError\u001b[39;00m\n",
      "\u001b[1;31mValueError\u001b[0m: tuple.index(x): x not in tuple"
     ]
    }
   ],
   "source": [
    "print(tup2, tup3)\n",
    "\n",
    "print(tup2.index(2)) # ищем индекс конкретного элемента - 4\n",
    "print(tup3.index('string')) # ищем индекс конкретного элемента - string\n",
    "\n",
    "finding_index = tup2.index(2)\n",
    "print(f'{finding_index=}')\n",
    "\n",
    "finding_index = tup2.index(3) # сохраняет индекс первого совпаденя слева\n",
    "print(f'{finding_index=}')\n",
    "# print(tup2.index(5)) # попытка вывести индекс значения которого нет -- приведет к ошибке ValueError"
   ]
  },
  {
   "cell_type": "code",
   "execution_count": null,
   "metadata": {},
   "outputs": [],
   "source": []
  }
 ],
 "metadata": {
  "kernelspec": {
   "display_name": "Python 3",
   "language": "python",
   "name": "python3"
  },
  "language_info": {
   "codemirror_mode": {
    "name": "ipython",
    "version": 3
   },
   "file_extension": ".py",
   "mimetype": "text/x-python",
   "name": "python",
   "nbconvert_exporter": "python",
   "pygments_lexer": "ipython3",
   "version": "3.11.9"
  }
 },
 "nbformat": 4,
 "nbformat_minor": 2
}
