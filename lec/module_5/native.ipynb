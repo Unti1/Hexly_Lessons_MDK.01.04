{
 "cells": [
  {
   "cell_type": "markdown",
   "metadata": {},
   "source": [
    "# Наследование классов в Python"
   ]
  },
  {
   "cell_type": "markdown",
   "metadata": {},
   "source": [
    "## Зачем нужно наследование?"
   ]
  },
  {
   "cell_type": "code",
   "execution_count": 11,
   "metadata": {},
   "outputs": [
    {
     "name": "stdout",
     "output_type": "stream",
     "text": [
      "True\n",
      "I am a student\n"
     ]
    },
    {
     "ename": "AttributeError",
     "evalue": "'Student' object has no attribute 'head'",
     "output_type": "error",
     "traceback": [
      "\u001b[1;31m---------------------------------------------------------------------------\u001b[0m",
      "\u001b[1;31mAttributeError\u001b[0m                            Traceback (most recent call last)",
      "Cell \u001b[1;32mIn[11], line 12\u001b[0m\n\u001b[0;32m     10\u001b[0m \u001b[38;5;28mprint\u001b[39m(human\u001b[38;5;241m.\u001b[39mhead)\n\u001b[0;32m     11\u001b[0m student\u001b[38;5;241m.\u001b[39mabout()\n\u001b[1;32m---> 12\u001b[0m \u001b[38;5;28mprint\u001b[39m(\u001b[43mstudent\u001b[49m\u001b[38;5;241;43m.\u001b[39;49m\u001b[43mhead\u001b[49m) \n",
      "\u001b[1;31mAttributeError\u001b[0m: 'Student' object has no attribute 'head'"
     ]
    }
   ],
   "source": [
    "class Human:\n",
    "    head = True\n",
    "\n",
    "class Student:\n",
    "    def about(self):\n",
    "        print(\"I am a student\")\n",
    "\n",
    "human = Human()\n",
    "student = Student()\n",
    "print(human.head)\n",
    "student.about()\n",
    "print(student.head) \n"
   ]
  },
  {
   "cell_type": "markdown",
   "metadata": {},
   "source": [
    "Родительский класс определяется как и где угодно, его основной смысл в том чтобы передать другому классу свои свойства и атрибуты\n",
    "\n",
    "Наследование -- процесс передачи атрибутов и методов из <u>родительского класса</u> в дочерний класс(класс-потомок)"
   ]
  },
  {
   "cell_type": "code",
   "execution_count": 3,
   "metadata": {},
   "outputs": [
    {
     "name": "stdout",
     "output_type": "stream",
     "text": [
      "True\n",
      "I am a student\n",
      "True\n"
     ]
    },
    {
     "ename": "AttributeError",
     "evalue": "'Human' object has no attribute 'about'",
     "output_type": "error",
     "traceback": [
      "\u001b[1;31m---------------------------------------------------------------------------\u001b[0m",
      "\u001b[1;31mAttributeError\u001b[0m                            Traceback (most recent call last)",
      "Cell \u001b[1;32mIn[3], line 13\u001b[0m\n\u001b[0;32m     11\u001b[0m student\u001b[38;5;241m.\u001b[39mabout()\n\u001b[0;32m     12\u001b[0m \u001b[38;5;28mprint\u001b[39m(student\u001b[38;5;241m.\u001b[39mhead)\n\u001b[1;32m---> 13\u001b[0m \u001b[43mhuman\u001b[49m\u001b[38;5;241;43m.\u001b[39;49m\u001b[43mabout\u001b[49m()\n",
      "\u001b[1;31mAttributeError\u001b[0m: 'Human' object has no attribute 'about'"
     ]
    }
   ],
   "source": [
    "class Human:\n",
    "    head = True\n",
    "\n",
    "class Student(Human):\n",
    "    def about(self):\n",
    "        print(\"I am a student\")\n",
    "\n",
    "human = Human()\n",
    "student = Student()\n",
    "print(human.head)\n",
    "student.about()\n",
    "print(student.head)\n",
    "human.about()\n"
   ]
  },
  {
   "cell_type": "code",
   "execution_count": null,
   "metadata": {},
   "outputs": [],
   "source": [
    "class Human:\n",
    "    head = True\n",
    "\n",
    "class Student(Human):\n",
    "    def about(self):\n",
    "        print(\"I am a student\")\n",
    "    \n",
    "    def say_hello(self):\n",
    "        print('Student say: Hello')\n",
    "\n",
    "class Teacher(Human):\n",
    "    def say_hello(self):\n",
    "        print('Teacher say: Hello')\n",
    "\n",
    "\n",
    "    \n",
    "    "
   ]
  },
  {
   "cell_type": "markdown",
   "metadata": {},
   "source": [
    "После определения классов выше, мы можем заметить что некоторые классы имеют один и тот же метод, который вызывает одно и то же действие. В данном случае мы использовуем наследование чтобы избегать повторных методов(которые возвращают одно и то же или имеют один и тот же функционал) определяя этот метод в классе-родителе"
   ]
  },
  {
   "cell_type": "code",
   "execution_count": 6,
   "metadata": {},
   "outputs": [
    {
     "name": "stdout",
     "output_type": "stream",
     "text": [
      "Human say: Hello\n",
      "Student say: Hello\n",
      "Teacher say: Hello\n"
     ]
    }
   ],
   "source": [
    "class Human:\n",
    "    head = True\n",
    "    \n",
    "    def say_hello(self):\n",
    "        print(f'{self.__class__.__name__} say: Hello')\n",
    "\n",
    "class Student(Human):\n",
    "    def about(self):\n",
    "        print(\"I am a student\")\n",
    "\n",
    "class Teacher(Human):\n",
    "    pass\n",
    "\n",
    "h = Human()\n",
    "s = Student()\n",
    "t = Teacher()\n",
    "\n",
    "h.say_hello()\n",
    "s.say_hello()\n",
    "t.say_hello()"
   ]
  },
  {
   "cell_type": "code",
   "execution_count": 7,
   "metadata": {},
   "outputs": [
    {
     "data": {
      "text/plain": [
       "[__main__.Teacher, __main__.Human, object]"
      ]
     },
     "execution_count": 7,
     "metadata": {},
     "output_type": "execute_result"
    }
   ],
   "source": [
    "Teacher.mro()"
   ]
  },
  {
   "cell_type": "markdown",
   "metadata": {},
   "source": [
    "# Доступность атрибутов. Инкапсуляция"
   ]
  },
  {
   "cell_type": "markdown",
   "metadata": {},
   "source": [
    "Инкапсуляция - возможность создавать в классе доступность для определенных методов и атрибутов.\n",
    "\n",
    "Как выставляется доступность:\n",
    "\n",
    "`*метод или атрибут*` - публичный доступ, общедоступный. Public\n",
    "\n",
    "`_*метод или атрибут*` - защищенный доступ. Protected\n",
    "\n",
    "`__*метод или атрибут*` - скрытый доступ. Hidden\n",
    "\n",
    "\n",
    "\n",
    "**Public** - Общий доступ к атрибуту или методу класса, такой доступ позволяет любому классу наследнику его забрать без каких либо проблем<br>\n",
    "**Protected** - Защищеный доступ, существует для того, чтобы при сохранении в процессор этот атрибут или метод был зашифрован, и его невозможно было бы достать<br>\n",
    "**Hidden(Private)** - Скрытый доступ. По логике отрезает доступ для класса потомка к атрибуту и методу. Такой метод может быть использован ТОЛЬКО классом-родителем<br>"
   ]
  },
  {
   "cell_type": "code",
   "execution_count": 8,
   "metadata": {},
   "outputs": [
    {
     "name": "stdout",
     "output_type": "stream",
     "text": [
      "----------------------------------------\n",
      "True\n",
      "True\n",
      "True\n",
      "----------------------------------------\n",
      "True\n",
      "True\n",
      "True\n",
      "----------------------------------------\n",
      "True\n",
      "True\n",
      "True\n"
     ]
    }
   ],
   "source": [
    "class Human:\n",
    "    head = True\n",
    "    _legs = True\n",
    "    __body = True\n",
    "    \n",
    "    def about(self):\n",
    "        print('--'*20)\n",
    "        print(self.__class__.head)\n",
    "        print(self.__class__._legs)\n",
    "        print(self.__class__.__body)\n",
    "    \n",
    "    def say_hello(self):\n",
    "        print(f'{self.__class__.__name__} say: Hello')\n",
    "    \n",
    "    def _func(self):\n",
    "        print('Protected function')\n",
    "    \n",
    "    def __func(self):\n",
    "        print('Private function')\n",
    "\n",
    "class Student(Human):\n",
    "    pass\n",
    "\n",
    "class Teacher(Human):\n",
    "    pass\n",
    "\n",
    "h = Human()\n",
    "s = Student()\n",
    "t = Teacher()\n",
    "\n",
    "h.about()\n",
    "s.about()  \n",
    "t.about()  \n",
    "\n",
    "\n"
   ]
  },
  {
   "cell_type": "code",
   "execution_count": 13,
   "metadata": {},
   "outputs": [
    {
     "name": "stdout",
     "output_type": "stream",
     "text": [
      "----------------------------------------\n",
      "True\n",
      "True\n",
      "True\n",
      "----------------------------------------\n",
      "True\n",
      "True\n",
      "True\n",
      "----------------------------------------\n",
      "True\n",
      "True\n"
     ]
    },
    {
     "ename": "AttributeError",
     "evalue": "type object 'Teacher' has no attribute '_Teacher__body'",
     "output_type": "error",
     "traceback": [
      "\u001b[1;31m---------------------------------------------------------------------------\u001b[0m",
      "\u001b[1;31mAttributeError\u001b[0m                            Traceback (most recent call last)",
      "Cell \u001b[1;32mIn[13], line 37\u001b[0m\n\u001b[0;32m     35\u001b[0m h\u001b[38;5;241m.\u001b[39mabout()\n\u001b[0;32m     36\u001b[0m s\u001b[38;5;241m.\u001b[39mabout()  \n\u001b[1;32m---> 37\u001b[0m \u001b[43mt\u001b[49m\u001b[38;5;241;43m.\u001b[39;49m\u001b[43mabout\u001b[49m\u001b[43m(\u001b[49m\u001b[43m)\u001b[49m  \n",
      "Cell \u001b[1;32mIn[13], line 29\u001b[0m, in \u001b[0;36mTeacher.about\u001b[1;34m(self)\u001b[0m\n\u001b[0;32m     27\u001b[0m \u001b[38;5;28mprint\u001b[39m(\u001b[38;5;28mself\u001b[39m\u001b[38;5;241m.\u001b[39m\u001b[38;5;18m__class__\u001b[39m\u001b[38;5;241m.\u001b[39mhead)\n\u001b[0;32m     28\u001b[0m \u001b[38;5;28mprint\u001b[39m(\u001b[38;5;28mself\u001b[39m\u001b[38;5;241m.\u001b[39m\u001b[38;5;18m__class__\u001b[39m\u001b[38;5;241m.\u001b[39m_legs)\n\u001b[1;32m---> 29\u001b[0m \u001b[38;5;28mprint\u001b[39m(\u001b[38;5;28;43mself\u001b[39;49m\u001b[38;5;241;43m.\u001b[39;49m\u001b[38;5;18;43m__class__\u001b[39;49m\u001b[38;5;241;43m.\u001b[39;49m\u001b[43m__body\u001b[49m)\n",
      "\u001b[1;31mAttributeError\u001b[0m: type object 'Teacher' has no attribute '_Teacher__body'"
     ]
    }
   ],
   "source": [
    "class Human:\n",
    "    head = True\n",
    "    _legs = True\n",
    "    __body = True\n",
    "    \n",
    "    def about(self):\n",
    "        print('--'*20)\n",
    "        print(self.__class__.head)\n",
    "        print(self.__class__._legs)\n",
    "        print(self.__class__.__body)\n",
    "    \n",
    "    def say_hello(self):\n",
    "        print(f'{self.__class__.__name__} say: Hello')\n",
    "    \n",
    "    def _func(self):\n",
    "        print('Protected function')\n",
    "    \n",
    "    def __func(self):\n",
    "        print('Private function')\n",
    "\n",
    "class Student(Human):\n",
    "    pass\n",
    "\n",
    "class Teacher(Human):\n",
    "    def about(self):\n",
    "        print('--'*20)\n",
    "        print(self.__class__.head)\n",
    "        print(self.__class__._legs)\n",
    "        print(self.__class__.__body)\n",
    "\n",
    "h = Human()\n",
    "s = Student()\n",
    "t = Teacher()\n",
    "\n",
    "h.about()\n",
    "s.about()  \n",
    "t.about()  \n",
    "\n",
    "\n"
   ]
  },
  {
   "cell_type": "code",
   "execution_count": 3,
   "metadata": {},
   "outputs": [
    {
     "name": "stdout",
     "output_type": "stream",
     "text": [
      "----------------------------------------\n",
      "True\n",
      "True\n",
      "True\n",
      "----------------------------------------\n",
      "True\n",
      "True\n",
      "True\n",
      "----------------------------------------\n",
      "self.__class__.head=True\n",
      "self.__class__._legs=True\n",
      "self.__class__._Human__body=True\n",
      "Private function\n",
      "True\n",
      "t.__class__.head=True\n",
      "t.__class__.head=False\n",
      "----------------------------------------\n",
      "self.__class__.head=False\n",
      "self.__class__._legs=True\n",
      "self.__class__._Human__body=True\n"
     ]
    }
   ],
   "source": [
    "class Human:\n",
    "    head = True\n",
    "    _legs = True\n",
    "    __body = True\n",
    "    \n",
    "    def about(self):\n",
    "        print('--'*20)\n",
    "        print(self.__class__.head)\n",
    "        print(self.__class__._legs)\n",
    "        print(self.__class__.__body)\n",
    "    \n",
    "    def say_hello(self):\n",
    "        print(f'{self.__class__.__name__} say: Hello')\n",
    "    \n",
    "    def _func(self):\n",
    "        print('Protected function')\n",
    "    \n",
    "    def __func(self):\n",
    "        print('Private function')\n",
    "\n",
    "class Student(Human):\n",
    "    pass\n",
    "\n",
    "class Teacher(Human):\n",
    "    def about(self):\n",
    "        print('--'*20)\n",
    "        print(f\"{self.__class__.head=}\")\n",
    "        print(f\"{self.__class__._legs=}\")\n",
    "        print(f\"{self.__class__._Human__body=}\")\n",
    "\n",
    "h = Human()\n",
    "s = Student()\n",
    "t = Teacher()\n",
    "\n",
    "h.about()\n",
    "s.about()  \n",
    "t.about()\n",
    "\n",
    "h._Human__func()# Только через префикс-обращение к самому классу можно вызвать приватный метод.\n",
    "print(h._Human__body)# и к скрытым атрибутам\n",
    "\n",
    "print(f'{t.__class__.head=}')\n",
    "t.__class__.head = False\n",
    "t.head = 'Abracadabra' # Такое значение будет сохранено как атрибут экземпляра, а не классовый атрибут, поэтому такое значение не повлияет на about или self.__class__.head\n",
    "print(f'{t.__class__.head=}')\n",
    "t.about()"
   ]
  },
  {
   "cell_type": "markdown",
   "metadata": {},
   "source": [
    "# Полиморфизм.\n",
    "\n",
    "Полиморфизм - это возможность изменять атрибуты и методы родительских классов относительно дочерних классов, не меняя их базовые функции. Это позволяет программисту создавать более гибкие и универсальные программы, которые могут работать с разными типами данных или объектов. Полиморфизм в Python реализуется через наследование.\n"
   ]
  },
  {
   "cell_type": "code",
   "execution_count": 8,
   "metadata": {},
   "outputs": [
    {
     "name": "stdout",
     "output_type": "stream",
     "text": [
      "----------------------------------------\n",
      "self.__class__.head=True\n",
      "self.__class__._legs=[True, True]\n",
      "self.__class__._Human__body=True\n",
      "self.__class__.__body=False\n"
     ]
    }
   ],
   "source": [
    "class Human:\n",
    "    head = True\n",
    "    _legs = True\n",
    "    __body = True\n",
    "    \n",
    "    def about(self):\n",
    "        print('--'*20)\n",
    "        print(self.__class__.head)\n",
    "        print(self.__class__._legs)\n",
    "        print(self.__class__.__body)\n",
    "\n",
    "class Teacher(Human):\n",
    "    _legs = [True, True]\n",
    "    __body = False\n",
    "    def about(self): # Замена родительского метода about\n",
    "        print('--'*20)\n",
    "        print(f\"{self.__class__.head=}\")\n",
    "        print(f\"{self.__class__._legs=}\")\n",
    "        print(f\"{self.__class__._Human__body=}\")\n",
    "        print(f\"{self.__class__.__body=}\")\n",
    "\n",
    "h = Human()\n",
    "t = Teacher()\n",
    "t.about()"
   ]
  },
  {
   "cell_type": "code",
   "execution_count": null,
   "metadata": {},
   "outputs": [],
   "source": []
  },
  {
   "cell_type": "markdown",
   "metadata": {},
   "source": [
    "Внутри python также есть конструкция нарушающая инкапсуляцию деанонимизируя анонимные(скрытые) атрибуты"
   ]
  },
  {
   "cell_type": "code",
   "execution_count": 11,
   "metadata": {},
   "outputs": [
    {
     "name": "stdout",
     "output_type": "stream",
     "text": [
      "{'__module__': '__main__', 'head': True, '_legs': True, '_Human__body': True, 'about': <function Human.about at 0x00000198E1761D00>, '__dict__': <attribute '__dict__' of 'Human' objects>, '__weakref__': <attribute '__weakref__' of 'Human' objects>, '__doc__': None}\n",
      "{'__module__': '__main__', '_legs': [True, True], '_Teacher__body': False, 'about': <function Teacher.about at 0x00000198E1761DA0>, '__doc__': None}\n"
     ]
    }
   ],
   "source": [
    "print(Human.__dict__)\n",
    "print(Teacher.__dict__)\n"
   ]
  },
  {
   "cell_type": "markdown",
   "metadata": {},
   "source": [
    "# Множественное наследование\n",
    "\n",
    "super() -- это функция которая рекурсивно вызывает методы классов-родителей в дочерний класс(потомок), в том порядке в котором они записаны относительно класса. `потомок(класс1, класс2, ..., классN)`"
   ]
  },
  {
   "cell_type": "markdown",
   "metadata": {},
   "source": [
    "**Множественное наследование** - мы передаем все возможные методы из классов-родителей в классы-потомки. Притом если методы у родителей перекрываются(пересекаются, или совпадают) то в таком случае берется метод у того родителя который в списке наследования стоял ранее чем родитель метод с которым этот метод или атрибут совпадает"
   ]
  },
  {
   "cell_type": "markdown",
   "metadata": {},
   "source": [
    "Также множественное наследование можно поделить на 2 группы.\n",
    "- 1 группа: Неявное множественное наследование\n",
    "- 2 группа: Явное множественное наследование"
   ]
  },
  {
   "cell_type": "markdown",
   "metadata": {},
   "source": [
    "## **НЕЯВНОЕ МНОЖЕСТВЕННОЕ НАСЛЕДОВАНИЕ**"
   ]
  },
  {
   "cell_type": "code",
   "execution_count": 5,
   "metadata": {},
   "outputs": [],
   "source": [
    "class Wolf:\n",
    "    def __init__(self):\n",
    "        self.head_type = 'wolf'\n",
    "        self.legs = ['strong']*4 # =>  ['strong','strong','strong','strong']\n",
    "        self.body = 'medium-size animal'\n",
    "        self.tail = True\n",
    "    \n",
    "    def speak(self):\n",
    "        print(\"Woooooooooooooooooooooooof\")\n",
    "    \n",
    "    def run(self):\n",
    "        print(\"Running really fast!\")\n",
    "        \n",
    "    def smell(self):\n",
    "        print(\"Smell like animal\")\n",
    "\n",
    " \n",
    "class Human:\n",
    "    def __init__(self):\n",
    "        self.head_type = 'human'\n",
    "        self.legs = ['medium']*2\n",
    "        self.body = 'medium-size human'\n",
    "    \n",
    "    def run(self):\n",
    "        print(\"Running normal human speed\")\n",
    "    \n",
    "    def speak(self):\n",
    "        print(\"Normal human speach\")\n",
    "    \n",
    "    def walk(self):\n",
    "        print(\"Walking slowly\")\n",
    "    \n",
    "    def smell(self):\n",
    "        print(\"Smell like human\")\n",
    "\n",
    "\n",
    "\n",
    "\n"
   ]
  },
  {
   "cell_type": "markdown",
   "metadata": {},
   "source": [
    "Мы создали 2 абсолютно независимых друг от друга класса. Представим что нам нужно из этих 2 классов создать класс обортня."
   ]
  },
  {
   "cell_type": "code",
   "execution_count": 10,
   "metadata": {},
   "outputs": [
    {
     "name": "stdout",
     "output_type": "stream",
     "text": [
      "Body: medium-size human\n",
      "Legs: ['medium', 'medium']\n",
      "Head type: human\n",
      "\n",
      "Walking slowly\n",
      "Smell like human\n",
      "Normal human speach\n",
      "Running normal human speed\n"
     ]
    }
   ],
   "source": [
    "class Werewolf(Human, Wolf):\n",
    "    def __init__(self):\n",
    "        super().__init__() # Обращение происходит к ближайшему классу родителю\n",
    "    \n",
    "    def about(self): \n",
    "        print(f\"\"\"Body: {self.body}\n",
    "Legs: {self.legs}\n",
    "Head type: {self.head_type}\n",
    "\"\"\")\n",
    "# Tail?: {self.tail}\n",
    "    def what_can(self):\n",
    "        self.walk()\n",
    "        self.smell()\n",
    "        self.speak()\n",
    "        self.run()\n",
    "\n",
    "w = Werewolf()\n",
    "w.about()\n",
    "w.what_can()"
   ]
  },
  {
   "cell_type": "markdown",
   "metadata": {},
   "source": [
    "Рещультат выше, не тот результат которого мы добивались поэтому наши классу нужно чуть доработать."
   ]
  },
  {
   "cell_type": "code",
   "execution_count": 16,
   "metadata": {},
   "outputs": [
    {
     "name": "stdout",
     "output_type": "stream",
     "text": [
      "Body: medium-size animal\n",
      "Legs: ['strong', 'strong']\n",
      "Head type: wolf\n",
      "Tail?: True\n",
      "\n",
      "Walking slowly\n",
      "Smell like animal\n",
      "Smell like human\n",
      "Normal human speach\n",
      "Running normal human speed\n"
     ]
    }
   ],
   "source": [
    "class Wolf:\n",
    "    def __init__(self):\n",
    "        self.head_type = 'wolf'\n",
    "        self.legs = ['strong']*4 # =>  ['strong','strong','strong','strong']\n",
    "        self.body = 'medium-size animal'\n",
    "        self.tail = True\n",
    "    \n",
    "    def speak(self):\n",
    "        print(\"Woooooooooooooooooooooooof\")\n",
    "    \n",
    "    def run(self):\n",
    "        print(\"Running really fast!\")\n",
    "        \n",
    "    def smell(self):\n",
    "        print(\"Smell like animal\")\n",
    "\n",
    " \n",
    "class Human:\n",
    "    def __init__(self):\n",
    "        self.head_type = 'human'\n",
    "        self.legs = ['medium']*2\n",
    "        self.body = 'medium-size human'\n",
    "        super().__init__()\n",
    "    \n",
    "    def run(self):\n",
    "        print(\"Running normal human speed\")\n",
    "    \n",
    "    def speak(self):\n",
    "        print(\"Normal human speach\")\n",
    "    \n",
    "    def walk(self):\n",
    "        print(\"Walking slowly\")\n",
    "    \n",
    "    def smell(self):\n",
    "        super().smell()\n",
    "        print(\"Smell like human\")\n",
    "\n",
    "class Werewolf(Human, Wolf):\n",
    "    def __init__(self):\n",
    "        super().__init__() # Обращение происходит к ближайшему классу родителю\n",
    "        self.legs = self.legs[:2]\n",
    "    \n",
    "    def about(self): \n",
    "        print(f\"\"\"Body: {self.body}\n",
    "Legs: {self.legs}\n",
    "Head type: {self.head_type}\n",
    "Tail?: {self.tail}\n",
    "\"\"\")\n",
    "    def what_can(self):\n",
    "        self.walk()\n",
    "        self.smell()\n",
    "        self.speak()\n",
    "        self.run()\n",
    "    \n",
    "    # Для любого подобного наследования методы придется подключать и переопределять в ручную\n",
    "    \n",
    "    def smell(self):\n",
    "        super().smell()\n",
    "\n",
    "w = Werewolf()\n",
    "w.about()\n",
    "w.what_can()\n",
    "\n",
    "\n"
   ]
  },
  {
   "cell_type": "markdown",
   "metadata": {},
   "source": [
    "В неявном множетвенном наследовании, заимствование методов, работает не совсем корректно\n",
    "\n",
    "Поэтому если есть необходимость поработать с конкретными методами из конкретного класса, то мы должны явно вызывать их через имя класса.\n"
   ]
  },
  {
   "cell_type": "markdown",
   "metadata": {},
   "source": [
    "## **ЯВНОЕ МНОЖЕСТВЕННОЕ НАСЛЕДОВАНИЕ**"
   ]
  },
  {
   "cell_type": "code",
   "execution_count": 22,
   "metadata": {},
   "outputs": [
    {
     "name": "stdout",
     "output_type": "stream",
     "text": [
      "Body: medium-size animal\n",
      "Legs: ['strong', 'strong']\n",
      "Head type: wolf\n",
      "Tail?: True\n",
      "\n",
      "Walking slowly\n",
      "Smell like animal\n",
      "Normal human speach\n",
      "Woooooooooooooooooooooooof\n",
      "Running really fast!\n"
     ]
    }
   ],
   "source": [
    "class Wolf:\n",
    "    def __init__(self):\n",
    "        self.head_type = 'wolf'\n",
    "        self.legs = ['strong']*4 # =>  ['strong','strong','strong','strong']\n",
    "        self.body = 'medium-size animal'\n",
    "        self.tail = True\n",
    "    \n",
    "    def speak(self):\n",
    "        print(\"Woooooooooooooooooooooooof\")\n",
    "    \n",
    "    def run(self):\n",
    "        print(\"Running really fast!\")\n",
    "        \n",
    "    def smell(self):\n",
    "        print(\"Smell like animal\")\n",
    "\n",
    " \n",
    "class Human:\n",
    "    def __init__(self):\n",
    "        self.head_type = 'human'\n",
    "        self.legs = ['medium']*2\n",
    "        self.body = 'medium-size human'\n",
    "        \n",
    "    \n",
    "    def run(self):\n",
    "        print(\"Running normal human speed\")\n",
    "    \n",
    "    def speak(self):\n",
    "        print(\"Normal human speach\")\n",
    "    \n",
    "    def walk(self):\n",
    "        print(\"Walking slowly\")\n",
    "    \n",
    "    def smell(self):\n",
    "        print(\"Smell like human\")\n",
    "\n",
    "class Werewolf(Human, Wolf):\n",
    "    def __init__(self):\n",
    "        Human.__init__(self)\n",
    "        Wolf.__init__(self)\n",
    "         # Обращение происходит к ближайшему классу родителю\n",
    "        self.legs = self.legs[:2]\n",
    "    \n",
    "    def about(self): \n",
    "        print(f\"\"\"Body: {self.body}\n",
    "Legs: {self.legs}\n",
    "Head type: {self.head_type}\n",
    "Tail?: {self.tail}\n",
    "\"\"\")\n",
    "    def what_can(self):\n",
    "        self.walk()\n",
    "        self.smell()\n",
    "        self.speak()\n",
    "        self.run()\n",
    "    \n",
    "    def speak(self):\n",
    "        Human.speak(self)\n",
    "        Wolf.speak(self)\n",
    "        \n",
    "    def smell(self):\n",
    "        return Wolf.smell(self)\n",
    "    \n",
    "    def run(self):\n",
    "        return Wolf.run(self)\n",
    "\n",
    "w = Werewolf()\n",
    "w.about()\n",
    "w.what_can()\n",
    "\n",
    "\n"
   ]
  },
  {
   "cell_type": "code",
   "execution_count": null,
   "metadata": {},
   "outputs": [],
   "source": []
  }
 ],
 "metadata": {
  "kernelspec": {
   "display_name": "Python 3",
   "language": "python",
   "name": "python3"
  },
  "language_info": {
   "codemirror_mode": {
    "name": "ipython",
    "version": 3
   },
   "file_extension": ".py",
   "mimetype": "text/x-python",
   "name": "python",
   "nbconvert_exporter": "python",
   "pygments_lexer": "ipython3",
   "version": "3.11.9"
  }
 },
 "nbformat": 4,
 "nbformat_minor": 2
}
