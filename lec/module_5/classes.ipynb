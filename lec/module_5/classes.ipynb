{
 "cells": [
  {
   "cell_type": "markdown",
   "metadata": {},
   "source": [
    "# Классы и объекты"
   ]
  },
  {
   "cell_type": "markdown",
   "metadata": {},
   "source": [
    "Классы - определенная сущность описывающая какие-либо свойства и методы определенного представления\\объекта\\предмета\n",
    "\n",
    "Объект - это конкретный конечный предмет который характерезует описаную сущность с которым мы можем взаимодействовать. Экземпляр класса(объект класса) *имя*"
   ]
  },
  {
   "cell_type": "markdown",
   "metadata": {},
   "source": [
    "Синтаксис описания класса\n",
    "\n",
    "```python\n",
    "class <NameOfClass>:\n",
    "    def __init__(self):\n",
    "        self.<attribute> = ...\n",
    "\n",
    "```"
   ]
  },
  {
   "cell_type": "markdown",
   "metadata": {},
   "source": [
    "Свойство - или Атрибут класса, это определенная единица характеристики объекта."
   ]
  },
  {
   "cell_type": "markdown",
   "metadata": {},
   "source": [
    "ЛЮБОЙ класс, создавемый внутри Python(даже те что уже есть), были созданы от основополагающего класса `object`\n",
    "Просмотреть это мы можем через обращение именно к КЛАССУ, вызывая метод `mro()`"
   ]
  },
  {
   "cell_type": "code",
   "execution_count": 1,
   "metadata": {},
   "outputs": [
    {
     "name": "stdout",
     "output_type": "stream",
     "text": [
      "[<class 'int'>, <class 'object'>]\n"
     ]
    }
   ],
   "source": [
    "print(int.mro())"
   ]
  },
  {
   "cell_type": "markdown",
   "metadata": {},
   "source": [
    "Создадим наш первый класс"
   ]
  },
  {
   "cell_type": "code",
   "execution_count": 2,
   "metadata": {},
   "outputs": [
    {
     "name": "stdout",
     "output_type": "stream",
     "text": [
      "Apple.mro()=[<class '__main__.Apple'>, <class 'object'>]\n",
      "apple=<__main__.Apple object at 0x000002451900D010>\n"
     ]
    }
   ],
   "source": [
    "class Apple:\n",
    "    pass\n",
    "\n",
    "apple = Apple()\n",
    "\n",
    "print(f'{Apple.mro()=}')\n",
    "print(f'{apple=}')\n"
   ]
  },
  {
   "cell_type": "markdown",
   "metadata": {},
   "source": [
    "Для того чтобы создать объект класса, после обращения к самому классу мы его вызываем с помощью приписки `()`"
   ]
  },
  {
   "attachments": {
    "image.png": {
     "image/png": "[encoded data removed]"
    }
   },
   "cell_type": "markdown",
   "metadata": {},
   "source": [
    "Процесс создания экземпляра класса Apple\n",
    "\n",
    "![image.png](attachment:image.png)\n",
    "\n",
    "Как мы можем заметить, процесс включает в себя 2 dunder-метода - new и init.New имеет отличный от init указатель. New создает общее представление объекта, не наделяя его конкретными свойствами. Конкретными свойствами его наделит init."
   ]
  },
  {
   "cell_type": "markdown",
   "metadata": {},
   "source": [
    "Метод - это определенное действие, которое привязано к объекту и не может выполненно вне его участия. То есть, другими словами это фукнция которая привязана к классу.\n",
    "\n",
    "self - это обязательный парамер который используется в стандартных методах класса и является УКАЗАТЕЛЕМ на собственный экземпляр класса. Self- переводится \"на себя\\ себе\\ мне\". То есть это конструкт который указывает сам на себя"
   ]
  },
  {
   "cell_type": "markdown",
   "metadata": {},
   "source": [
    "`__init__` -- это dunder(double underline) метод, который НАДЕЛЯЕТ создаваемый объект определенными свойствами. Также, такой метод во всех ЯП(Языках Программирования в дальнейшем) называется **КОНСТРУКТОРОМ** КЛАССА"
   ]
  },
  {
   "cell_type": "markdown",
   "metadata": {},
   "source": [
    "`__del__` -- этот магический метод(dunder) используется в тот момент когда поисходит удаление объекта. Иными в других ЯП это **ДЕСТРУКТОР** КЛАССА"
   ]
  },
  {
   "cell_type": "code",
   "execution_count": 7,
   "metadata": {},
   "outputs": [
    {
     "name": "stdout",
     "output_type": "stream",
     "text": [
      "apple1 is apple2=False\n",
      "id(apple1)=2495806069328 | id(apple2)=2495803723792\n",
      "<__main__.Apple object at 0x0000024519A25A50>\n",
      "<__main__.Apple object at 0x00000245197E9010>\n"
     ]
    }
   ],
   "source": [
    "class Apple():\n",
    "    def __init__(self):\n",
    "        self.size: str = 'normal'\n",
    "        self.color: str = 'red'\n",
    "        self.taste: str = 'sweet'\n",
    "        self.fresh = True\n",
    "    \n",
    "\n",
    "apple1 = Apple()\n",
    "apple2 = Apple()\n",
    "\n",
    "print(f'{apple1 is apple2=}')\n",
    "print(f'{id(apple1)=} | {id(apple2)=}')\n",
    "print(apple1)\n",
    "print(apple2)\n",
    "\n",
    "        \n"
   ]
  },
  {
   "cell_type": "markdown",
   "metadata": {},
   "source": [
    "- Свойства объекта можно вызывать и переопределять в любое время\n",
    "- Также класса мы можем создавать и собственные методы\n",
    "- Объекты класса по своей сути не являются изменяемыми типами данных, поэтому их можно использовать в ключах dict и как объекты множества. Связано это с тем что объект который создается является КОНЕЧНЫМ относительно оперативной памяти"
   ]
  },
  {
   "cell_type": "code",
   "execution_count": 18,
   "metadata": {},
   "outputs": [
    {
     "name": "stdout",
     "output_type": "stream",
     "text": [
      "cat1.name='Tom'\n",
      "cat2.name='Bob'\n",
      "Cat Tom is jumping on 1 m. distance\n",
      "Cat Tom is running\n",
      "Cat Tom says \"Meow!\"\n",
      "Cat Bob says \"Meow!\"\n",
      "Cat Jack says \"Meow!\"\n",
      "We missed cat Tom\n",
      "We missed cat Molly\n",
      "We missed cat Jack\n",
      "basket_with_cats={<__main__.Cat object at 0x0000024519A30210>, <__main__.Cat object at 0x0000024519A31710>, <__main__.Cat object at 0x0000024519A309D0>}\n",
      "Cat Tom says \"Meow!\"\n",
      "Cat Jack says \"Meow!\"\n",
      "Cat Molly says \"Meow!\"\n"
     ]
    }
   ],
   "source": [
    "class Cat:\n",
    "    def __init__(self, name: str, color: str, size: str = 'normal'):\n",
    "        self.name = name\n",
    "        self.size = size\n",
    "        self.color = color\n",
    "\n",
    "    def __del__(self):\n",
    "        print(f'We missed cat {self.name}')\n",
    "        \n",
    "    def speak(self):\n",
    "        print(f'Cat {self.name} says \"Meow!\"') # когда мы работаем внутри класса, то мы можем использовать только указатель на себя\n",
    "\n",
    "    def run(self):\n",
    "        print(f'Cat {self.name} is running')\n",
    "        \n",
    "    def jump(self, distance = 1):\n",
    "        print(f'Cat {self.name} is jumping on {distance} m. distance')\n",
    "        \n",
    "    \n",
    "\n",
    "cat1 = Cat('Tom', 'black')\n",
    "cat2 = Cat('Bob', 'red')\n",
    "cat3 = Cat('Molly', 'white')\n",
    "\n",
    "print(f'{cat1.name=}') # А когда мы работаем с конкретно созданным объектом, мы можем получать параметры обращаясь к самому объекту\n",
    "print(f'{cat2.name=}')\n",
    "\n",
    "cat1.jump()\n",
    "# del cat1 # Удаление объекта cat1\n",
    "cat1.run()\n",
    "cat1.speak()\n",
    "\n",
    "# Переопределим имя для cat2\n",
    "cat2.speak()\n",
    "cat2.name = 'Jack'\n",
    "cat2.speak()\n",
    "\n",
    "# Когда экземпляров объекта много, и для каждого из них нужно выполнить определенное действие то мы можем наши объекты поместить в другую структуру\n",
    "# basket_with_cats = [cat1, cat2, cat3]\n",
    "basket_with_cats = {cat1, cat2, cat3}\n",
    "print(f'{basket_with_cats=}')\n",
    "for cat in basket_with_cats:\n",
    "    cat.speak()\n"
   ]
  },
  {
   "cell_type": "markdown",
   "metadata": {},
   "source": [
    "# Перегрузка операторов"
   ]
  },
  {
   "cell_type": "markdown",
   "metadata": {},
   "source": [
    "Перегрузка операторов -- это изменеие поведения стандртных функций и методов взаимодействия с классом внутри нашего класса\n",
    "\n",
    "Например `__len__` в cat, должен считать длину кота, ранее этого dunder-метода там не было и соответственно выполнить len для экземпляров класса Cat было невозможно.\n",
    "\n",
    "- **ВАЖНО** соблюдать те правил которые устанавливает тот или иной dunder мето, например, если `__len__` должен выдавать int значение, то int значение мы и возвращаем(return)"
   ]
  },
  {
   "cell_type": "code",
   "execution_count": 20,
   "metadata": {},
   "outputs": [
    {
     "name": "stdout",
     "output_type": "stream",
     "text": [
      "lst=[0, 1, 2, 3, 4, 5, 6, 7, 8, 9] | len(lst)=10\n"
     ]
    }
   ],
   "source": [
    "lst = list(range(10))\n",
    "print(f'{lst=} | {len(lst)=}')"
   ]
  },
  {
   "cell_type": "code",
   "execution_count": 25,
   "metadata": {},
   "outputs": [
    {
     "name": "stdout",
     "output_type": "stream",
     "text": [
      "We missed cat Barsik\n",
      "We missed cat Murzik\n",
      "We trying get length cat Barsik\n",
      "We trying get length cat Murzik\n",
      "cat_len1=2 | cat_len2=4\n"
     ]
    }
   ],
   "source": [
    "class Cat:\n",
    "    def __init__(self, name: str, color: str, size: int = 1):\n",
    "        self.name = name\n",
    "        self.size = size\n",
    "        self.color = color\n",
    "\n",
    "    def __del__(self):\n",
    "        print(f'We missed cat {self.name}')\n",
    "    \n",
    "    def __len__(self):\n",
    "        print(f'We trying get length cat {self.name}')\n",
    "        return self.size\n",
    "\n",
    "cat = Cat('Barsik', 'red', size = 2)\n",
    "cat2 = Cat('Murzik', 'grey', size=4)\n",
    "\n",
    "cat_len1 = len(cat)\n",
    "cat_len2 = len(cat2)\n",
    "print(f'{cat_len1=} | {cat_len2=}')\n"
   ]
  },
  {
   "cell_type": "markdown",
   "metadata": {},
   "source": [
    "### Переопределения математических операций"
   ]
  },
  {
   "cell_type": "code",
   "execution_count": 29,
   "metadata": {},
   "outputs": [
    {
     "name": "stdout",
     "output_type": "stream",
     "text": [
      "4\n",
      "4\n"
     ]
    }
   ],
   "source": [
    "print(2 + 2)\n",
    "val = 2\n",
    "print(val.__add__(2))\n"
   ]
  },
  {
   "cell_type": "code",
   "execution_count": 30,
   "metadata": {},
   "outputs": [
    {
     "name": "stdout",
     "output_type": "stream",
     "text": [
      "[2, 3, 4, 5]\n"
     ]
    }
   ],
   "source": [
    "print([2,3] + [4,5])"
   ]
  },
  {
   "cell_type": "code",
   "execution_count": 47,
   "metadata": {},
   "outputs": [
    {
     "name": "stdout",
     "output_type": "stream",
     "text": [
      "False\n",
      "Объект типа <class '__main__.Basket'>\n",
      "b3=<__main__.Basket object at 0x00000245190223D0>| False\n",
      "Объект типа <class '__main__.Basket'>\n",
      "b3=<__main__.Basket object at 0x0000024519011890>| False\n",
      "Корзина с содержимым: [<__main__.Apple object at 0x000002451B015BD0>, <__main__.Apple object at 0x000002451B017CD0>, <__main__.Apple object at 0x000002451B017C90>]\n",
      "Корзина с содержимым: [<__main__.Apple object at 0x000002451B015BD0>, <__main__.Apple object at 0x000002451B017CD0>, <__main__.Apple object at 0x000002451B017C90>]\n",
      "int(b3)=3\n",
      "int(b1)=1\n",
      "len(b3)=3\n",
      "Без debug вывода - Корзина с содержимым: [<__main__.Apple object at 0x000002451B015BD0>, <__main__.Apple object at 0x000002451B017CD0>, <__main__.Apple object at 0x000002451B017C90>]\n"
     ]
    }
   ],
   "source": [
    "class Basket:\n",
    "    def __init__(self, *args):\n",
    "        self.inner_items = list(args)\n",
    "        self.count_of_product: int = len(self.inner_items)\n",
    "    \n",
    "    def __len__(self):\n",
    "        return self.count_of_product\n",
    "\n",
    "    def __add__(self, other): # оператор сложения \n",
    "        print(f'Объект типа {type(other)}')\n",
    "        if isinstance(other, Basket):\n",
    "            new_basket = Basket( *(self.inner_items + other.inner_items) )\n",
    "            return new_basket\n",
    "    \n",
    "    def __str__(self): # Выполним переопределение строкификации, по умолчанию выводися  <Имя объекта object at адрес в ОП>\n",
    "        # Но мы можем изменить это поведение на \n",
    "        # НЕ РАБОТАЕТ с f'{Basket()=}'\n",
    "        return f'Корзина с содержимым: {self.inner_items}'\n",
    "    \n",
    "    def __int__(self): # переопределение перевода объекта в int объект\n",
    "        return self.count_of_product\n",
    "    # def __repr__(self):\n",
    "    #     # Это аналог __str__ который работает в режиме debug или другими словами для разработчика а не для конечного пользователя\n",
    "    #     # т.е. работает при {var=}\n",
    "    #     return f'Корзина с содержимым: {self.inner_items}'\n",
    "        \n",
    "a1, a2, a3 = Apple(), Apple(), Apple()\n",
    "print(a1 is a2 is a3)\n",
    "\n",
    "b1 = Basket(a1)\n",
    "b2 = Basket(a2, a3)\n",
    "\n",
    "b3 = b1 + b2\n",
    "print(f'{b3=}| {(b3 is b1) or (b3 is b2)}') \n",
    "b3 = b1.__add__(b2)\n",
    "print(f'{b3=}| {(b3 is b1) or (b3 is b2)}')\n",
    "\n",
    "print(b3)\n",
    "print(str(b3))\n",
    "print(f'{int(b3)=}')\n",
    "print(f'{int(b1)=}')\n",
    "print(f'{len(b3)=}')\n",
    "print(f'Без debug вывода - {b3}')"
   ]
  },
  {
   "cell_type": "markdown",
   "metadata": {},
   "source": [
    "# Пространство класса"
   ]
  },
  {
   "cell_type": "markdown",
   "metadata": {},
   "source": [
    "Свойства в классах делятся на 2 вида, классовые и экземплярный(объектные)\n",
    "- Классове параметры(свойства) общие для всей группы классов\n",
    "- Экземплярные будут работать только внутри собственного объекта"
   ]
  },
  {
   "cell_type": "code",
   "execution_count": 1,
   "metadata": {},
   "outputs": [
    {
     "name": "stdout",
     "output_type": "stream",
     "text": [
      "0 Matt\n",
      "0 Max\n",
      "1 Matt\n",
      "1 Max\n",
      "2 Matt\n",
      "2 Max\n",
      "3 Matt\n",
      "3 Max\n"
     ]
    }
   ],
   "source": [
    "class Wolf:\n",
    "    total_count = 0\n",
    "    \n",
    "    def add(self):\n",
    "        self.total_count += 1 # это не влияние на классовый атрибут, это создание total_count внутри экземпляра, и присвоение ему +1\n",
    "        \n",
    "    def __init__(self, name):\n",
    "        self.size = 'normal'\n",
    "        self.name = name\n",
    "        \n",
    "    # Для таких случаем существуют классовые методы\n",
    "    @classmethod\n",
    "    def class_addition(cls):\n",
    "        print('Увеличение значения классового атрибута')\n",
    "        cls.total_count += 1\n",
    "        \n",
    "        \n",
    "w1 = Wolf('Matt')\n",
    "w2 = Wolf('Max')\n",
    "print(w1.total_count, w1.name)\n",
    "print(w2.total_count, w2.name)\n",
    "\n",
    "# w1.add()\n",
    "# print(w1.total_count, w1.name)\n",
    "# print(w2.total_count, w2.name)\n",
    "\n",
    "w1.class_addition()\n",
    "print(w1.total_count, w1.name)\n",
    "print(w2.total_count, w2.name)\n",
    "\n",
    "w2.class_addition()\n",
    "print(w1.total_count, w1.name)\n",
    "print(w2.total_count, w2.name)\n",
    "\n",
    "Wolf.class_addition()\n",
    "print(w1.total_count, w1.name)\n",
    "print(w2.total_count, w2.name)\n"
   ]
  },
  {
   "cell_type": "markdown",
   "metadata": {},
   "source": [
    "Как видим при использовании self.<классовый атрибут> + <значение> получаем соотвествующую ошибку, которая МЕНЯЕТ <классовый атрибут> на объектный, и с того момента, любое использование этого атрибута будет использованием атрибута объекта А НЕ КЛАССА"
   ]
  },
  {
   "cell_type": "markdown",
   "metadata": {},
   "source": [
    "Организуем класс волка таким образом чтобы при создании какого либо объекта, он увеличивал общий счетчик этих объектов"
   ]
  },
  {
   "cell_type": "code",
   "execution_count": 6,
   "metadata": {},
   "outputs": [
    {
     "name": "stdout",
     "output_type": "stream",
     "text": [
      "Wolf.total_count=0\n",
      "Wolf name: Bob. Size: normal\n",
      "Total count of wolves on the Earth: wolf_1.total_count=1\n",
      "Wolf name: Alice. Size: normal\n",
      "Total count of wolves on the Earth: wolf_2.total_count=2\n"
     ]
    }
   ],
   "source": [
    "class Wolf:\n",
    "    total_count = 0\n",
    "    \n",
    "    def __new__(cls, *args, **kwargs):\n",
    "        cls.total_count += 1\n",
    "        return super().__new__(cls) ## !! всегда пишется в конце new для того чтобы новый объект создавался\n",
    "    \n",
    "    def __init__(self, name):\n",
    "        self.size = 'normal'\n",
    "        self.name = name\n",
    "\n",
    "print(f\"{Wolf.total_count=}\")\n",
    "wolf_1 = Wolf('Bob')\n",
    "print(f\"Wolf name: {wolf_1.name}. Size: {wolf_1.size}\")\n",
    "print(f\"Total count of wolves on the Earth: {wolf_1.total_count=}\")\n",
    "wolf_2 = Wolf('Alice')\n",
    "print(f\"Wolf name: {wolf_2.name}. Size: {wolf_2.size}\")\n",
    "print(f\"Total count of wolves on the Earth: {wolf_2.total_count=}\")\n",
    "\n"
   ]
  },
  {
   "cell_type": "markdown",
   "metadata": {},
   "source": [
    "# Singleton\n",
    "- паттерн(шаблон) проектирование. Когда класс не создает больше чем один объект, а при попытке создать новый ссылается на старый"
   ]
  },
  {
   "cell_type": "code",
   "execution_count": 8,
   "metadata": {},
   "outputs": [
    {
     "name": "stdout",
     "output_type": "stream",
     "text": [
      "id(s1)=140721542917384 | id(s2)=140721542917384\n",
      "True\n"
     ]
    }
   ],
   "source": [
    "class Singleton:\n",
    "    _instance = None\n",
    "    \n",
    "    def __new__(cls, *args, **kwargs):\n",
    "        if cls._instance:\n",
    "            return cls._instance\n",
    "        else:\n",
    "            cls._instance = super().__init__(cls, *args, **kwargs)\n",
    "            return cls._instance\n",
    "\n",
    "s1 = Singleton()\n",
    "s2 = Singleton()\n",
    "print(f'{id(s1)=} | {id(s2)=}')\n",
    "print(s1 is s2)  # True\n"
   ]
  },
  {
   "cell_type": "code",
   "execution_count": 9,
   "metadata": {},
   "outputs": [
    {
     "name": "stdout",
     "output_type": "stream",
     "text": [
      "id(s1)=2495096937616 | id(s2)=2495096937616\n",
      "True\n"
     ]
    }
   ],
   "source": [
    "class Singleton:\n",
    "    _instance = None\n",
    "    \n",
    "    def __new__(cls, *args, **kwargs):\n",
    "        if cls._instance:\n",
    "            return cls._instance\n",
    "        else:\n",
    "            cls._instance = super().__new__(cls, *args, **kwargs)\n",
    "            return cls._instance\n",
    "\n",
    "s1 = Singleton()\n",
    "s2 = Singleton()\n",
    "print(f'{id(s1)=} | {id(s2)=}')\n",
    "print(s1 is s2)  # True\n"
   ]
  },
  {
   "cell_type": "code",
   "execution_count": null,
   "metadata": {},
   "outputs": [],
   "source": []
  }
 ],
 "metadata": {
  "kernelspec": {
   "display_name": "Python 3",
   "language": "python",
   "name": "python3"
  },
  "language_info": {
   "codemirror_mode": {
    "name": "ipython",
    "version": 3
   },
   "file_extension": ".py",
   "mimetype": "text/x-python",
   "name": "python",
   "nbconvert_exporter": "python",
   "pygments_lexer": "ipython3",
   "version": "3.11.9"
  }
 },
 "nbformat": 4,
 "nbformat_minor": 2
}
