{
 "cells": [
  {
   "cell_type": "markdown",
   "metadata": {},
   "source": [
    "# Исключение\n",
    " - это специальная объект, который используется в Python для обработки ошибок. Когда она появляется конкретно? Когда наша программа при выполнении кода натыкается на ошибку Python создает объект исключения после чего с момента, где это исключение произошло ло, программа не может продолжать работу и выбрасывает этот объект."
   ]
  },
  {
   "cell_type": "markdown",
   "metadata": {},
   "source": [
    "Какие исключения нам известны на текущем этапе ?"
   ]
  },
  {
   "cell_type": "code",
   "execution_count": null,
   "metadata": {},
   "outputs": [],
   "source": [
    "ZeroDivisionError # Исключение деления на ноль\n",
    "ValueError # Исключение неверного типа данных\n",
    "TypeError # Исключение неверного типа данных"
   ]
  },
  {
   "cell_type": "markdown",
   "metadata": {},
   "source": [
    "# Обработка исключений"
   ]
  },
  {
   "cell_type": "markdown",
   "metadata": {},
   "source": [
    "## Try-Except\n",
    "\n",
    "- это специальная конструкция, которая используется для обработки ошибок в процессе выполнения кода. Служит она для того чтобы исправлять возникающую ошибку и возможную. \n"
   ]
  },
  {
   "cell_type": "code",
   "execution_count": 1,
   "metadata": {},
   "outputs": [
    {
     "name": "stdout",
     "output_type": "stream",
     "text": [
      "2.0\n"
     ]
    }
   ],
   "source": [
    "def divide_func(a,b):\n",
    "    return a/b\n",
    "\n",
    "print(divide_func(10,5))"
   ]
  },
  {
   "cell_type": "code",
   "execution_count": 3,
   "metadata": {},
   "outputs": [
    {
     "ename": "ZeroDivisionError",
     "evalue": "division by zero",
     "output_type": "error",
     "traceback": [
      "\u001b[1;31m---------------------------------------------------------------------------\u001b[0m",
      "\u001b[1;31mZeroDivisionError\u001b[0m                         Traceback (most recent call last)",
      "Cell \u001b[1;32mIn[3], line 1\u001b[0m\n\u001b[1;32m----> 1\u001b[0m \u001b[38;5;28mprint\u001b[39m(\u001b[43mdivide_func\u001b[49m\u001b[43m(\u001b[49m\u001b[38;5;241;43m10\u001b[39;49m\u001b[43m,\u001b[49m\u001b[38;5;241;43m0\u001b[39;49m\u001b[43m)\u001b[49m)\n\u001b[0;32m      2\u001b[0m \u001b[38;5;28mprint\u001b[39m(\u001b[38;5;124m'\u001b[39m\u001b[38;5;124mКод дошел до этой строки?\u001b[39m\u001b[38;5;124m'\u001b[39m)\n",
      "Cell \u001b[1;32mIn[1], line 2\u001b[0m, in \u001b[0;36mdivide_func\u001b[1;34m(a, b)\u001b[0m\n\u001b[0;32m      1\u001b[0m \u001b[38;5;28;01mdef\u001b[39;00m \u001b[38;5;21mdivide_func\u001b[39m(a,b):\n\u001b[1;32m----> 2\u001b[0m     \u001b[38;5;28;01mreturn\u001b[39;00m \u001b[43ma\u001b[49m\u001b[38;5;241;43m/\u001b[39;49m\u001b[43mb\u001b[49m\n",
      "\u001b[1;31mZeroDivisionError\u001b[0m: division by zero"
     ]
    }
   ],
   "source": [
    "print(divide_func(10,0))\n",
    "print('Код дошел до этой строки?')"
   ]
  },
  {
   "cell_type": "markdown",
   "metadata": {},
   "source": [
    "Как изолировать эту область на предмет ошибки ZeroDioDivisionError"
   ]
  },
  {
   "cell_type": "code",
   "execution_count": 5,
   "metadata": {},
   "outputs": [
    {
     "name": "stdout",
     "output_type": "stream",
     "text": [
      "2.0\n",
      "0\n",
      "0\n",
      "0\n",
      "Мы долши до этой строки?\n"
     ]
    }
   ],
   "source": [
    "def divide_func(a,b):\n",
    "    try:\n",
    "        return a/b\n",
    "    except:\n",
    "        return 0\n",
    "\n",
    "print(divide_func(10,5))\n",
    "print(divide_func(10,0))\n",
    "print(divide_func(10,'a'))\n",
    "print(divide_func(10,'20'))\n",
    "print('Мы долши до этой строки?')\n"
   ]
  },
  {
   "cell_type": "markdown",
   "metadata": {},
   "source": [
    "Если в блоке except не указывать какую именно ошибку мы изолируем, то обрабатываться будут абсолютно все ошибки, применят на свой страх и риск, так как в дальнейшем может превести к непредвиденным последствиям. Лучшее применения такого способа исключительно для логирования ошибки."
   ]
  },
  {
   "cell_type": "code",
   "execution_count": 8,
   "metadata": {},
   "outputs": [
    {
     "name": "stdout",
     "output_type": "stream",
     "text": [
      "2.0\n",
      "0\n",
      "Ошибка! Неверно передано значение\n",
      "Ошибка! Неверно передано значение\n",
      "Мы долши до этой строки?\n"
     ]
    }
   ],
   "source": [
    "def divide_func(a,b):\n",
    "    try:\n",
    "        return a/b\n",
    "    except ZeroDivisionError:\n",
    "        return 0\n",
    "    except TypeError:\n",
    "        return 'Ошибка! Неверно передано значение'\n",
    "\n",
    "print(divide_func(10,5))\n",
    "print(divide_func(10,0))\n",
    "print(divide_func(10,'a'))\n",
    "print(divide_func(10,'20'))\n",
    "print('Мы долши до этой строки?')\n"
   ]
  },
  {
   "cell_type": "markdown",
   "metadata": {},
   "source": [
    "Блоков Except у try может сколь-угодно много. Однако try в контексте определенной проверки может быть только один.\n",
    "\n",
    "В рассмотреных ранее примерах, мы получали исключения но не получали полное описание той поблемы с которой столкнулась программа при обработке кода. Из за этого в процессе отладки ошибки можно протратить много времени на поиск конкретной причины."
   ]
  },
  {
   "cell_type": "markdown",
   "metadata": {},
   "source": [
    "Поэтому дальнешийе конструкции except рекомендуется выполнять следующим образом"
   ]
  },
  {
   "cell_type": "code",
   "execution_count": 9,
   "metadata": {},
   "outputs": [
    {
     "name": "stdout",
     "output_type": "stream",
     "text": [
      "2.0\n",
      "Внимание! Возможная ошибка: division by zero\n",
      "0\n",
      "Ошибка! Неверно передано значение. unsupported operand type(s) for /: 'int' and 'str'\n",
      "Ошибка! Неверно передано значение. unsupported operand type(s) for /: 'int' and 'str'\n",
      "Мы долши до этой строки?\n"
     ]
    }
   ],
   "source": [
    "def divide_func(a,b):\n",
    "    try:\n",
    "        return a/b\n",
    "    except ZeroDivisionError as exc:\n",
    "        print(f'Внимание! Возможная ошибка: {exc}')\n",
    "        return 0\n",
    "    except TypeError as e:\n",
    "        return f'Ошибка! Неверно передано значение. {e}'\n",
    "\n",
    "print(divide_func(10,5))\n",
    "print(divide_func(10,0))\n",
    "print(divide_func(10,'a'))\n",
    "print(divide_func(10,'20'))\n",
    "print('Мы долши до этой строки?')\n"
   ]
  },
  {
   "cell_type": "markdown",
   "metadata": {},
   "source": [
    "raise - кострукция которая ВЫЗЫВАЕТ объект исключения в месте где raise был объявлен\n",
    "\n",
    "Exception - это класс-родитель(основатель) любой ошибки которая может происходить в коде. При вызове является САМЫМ общим случаем\n",
    "\n",
    "Порядок обработки ошибки, должен быть всегда от частного(TypeError) к общему(Exception). Также есть внутренние группы ошибок такие как ArifmeticError (ZeroDivisonError его потомок), поэтому указать родителя ошибки, то это будет общий случай для этой группы ошибок"
   ]
  },
  {
   "cell_type": "code",
   "execution_count": 16,
   "metadata": {},
   "outputs": [
    {
     "name": "stdout",
     "output_type": "stream",
     "text": [
      "2.0\n",
      "Ошибка! Неверно передано значение. invalid literal for int() with base 10: ''\n",
      "Ошибка! Неверно передано значение. unsupported operand type(s) for /: 'int' and 'str'\n",
      "Ошибка! Неверно передано значение. unsupported operand type(s) for /: 'int' and 'str'\n",
      "Ошибка! Неверно передано значение. unsupported operand type(s) for /: 'int' and 'str'\n",
      "Ошибка! Неверно передано значение. invalid literal for int() with base 10: ''\n",
      "Мы долши до этой строки?\n"
     ]
    }
   ],
   "source": [
    "def divide_func(a=None,b=None):\n",
    "    try:\n",
    "        # raise NameError('Какой то текст ошибки')\n",
    "        a = int(input('Введите первое число: ')) if not a else a\n",
    "        b = int(input('Введите первое число: ')) if not b else b\n",
    "        return a/b\n",
    "    except ZeroDivisionError as exc:\n",
    "        print(f'Внимание! Возможная ошибка: {exc}')\n",
    "        return 0\n",
    "    except ArithmeticError as e: # Принимает OverflowError, FloatingPointError но не ZeroDivisionError потому что он уже обработан в частном порядке\n",
    "        print(f'Арифметическая ошибка: {e}')\n",
    "    except (TypeError, ValueError) as e:\n",
    "        return f'Ошибка! Неверно передано значение. {e}'\n",
    "    except Exception as e:\n",
    "        print(f'Неожиданная ошибка: {e.__class__.__name__} - {e}')\n",
    "\n",
    "\n",
    "print(divide_func(10,5))\n",
    "print(divide_func(10,0))\n",
    "print(divide_func(10,'a'))\n",
    "print(divide_func(10,'20'))\n",
    "print(divide_func(10,'20'))\n",
    "print(divide_func())\n",
    "print('Мы долши до этой строки?')\n"
   ]
  },
  {
   "cell_type": "markdown",
   "metadata": {},
   "source": [
    "finally - это конструкция которая исполняется в любом случае после выполнения блока try-except и её основной смысл это сделать заключающие(завершающие)действия в отношении той структуры кода которая требует специального завершения(завершение эмулятора, конец работы с БД)"
   ]
  },
  {
   "cell_type": "code",
   "execution_count": 18,
   "metadata": {},
   "outputs": [
    {
     "name": "stdout",
     "output_type": "stream",
     "text": [
      "Конец выполнения функции divide_func\n",
      "2.0\n",
      "Конец выполнения функции divide_func\n",
      "1.0\n",
      "Конец выполнения функции divide_func\n",
      "Ошибка! Неверно передано значение. unsupported operand type(s) for /: 'int' and 'str'\n",
      "Конец выполнения функции divide_func\n",
      "Ошибка! Неверно передано значение. unsupported operand type(s) for /: 'int' and 'str'\n",
      "Конец выполнения функции divide_func\n",
      "Ошибка! Неверно передано значение. unsupported operand type(s) for /: 'int' and 'str'\n",
      "Конец выполнения функции divide_func\n",
      "Ошибка! Неверно передано значение. invalid literal for int() with base 10: 'f'\n",
      "Мы долши до этой строки?\n"
     ]
    }
   ],
   "source": [
    "def divide_func(a=None,b=None):\n",
    "    try:\n",
    "        # raise NameError('Какой то текст ошибки')\n",
    "        a = int(input('Введите первое число: ')) if not a else a\n",
    "        b = int(input('Введите первое число: ')) if not b else b\n",
    "        return a/b\n",
    "    except ZeroDivisionError as exc:\n",
    "        print(f'Внимание! Возможная ошибка: {exc}')\n",
    "        return 0\n",
    "    except ArithmeticError as e: # Принимает OverflowError, FloatingPointError но не ZeroDivisionError потому что он уже обработан в частном порядке\n",
    "        print(f'Арифметическая ошибка: {e}')\n",
    "    except (TypeError, ValueError) as e:\n",
    "        return f'Ошибка! Неверно передано значение. {e}'\n",
    "    except Exception as e:\n",
    "        print(f'Неожиданная ошибка: {e.__class__.__name__} - {e}')\n",
    "    finally:\n",
    "        print(f'Конец выполнения функции {divide_func.__name__}')\n",
    "\n",
    "\n",
    "print(divide_func(10,5))\n",
    "print(divide_func(10,0))\n",
    "print(divide_func(10,'a'))\n",
    "print(divide_func(10,'20'))\n",
    "print(divide_func(10,'20'))\n",
    "print(divide_func())\n",
    "print('Мы долши до этой строки?')\n"
   ]
  },
  {
   "cell_type": "code",
   "execution_count": 20,
   "metadata": {},
   "outputs": [
    {
     "name": "stdout",
     "output_type": "stream",
     "text": [
      "1\n",
      "Отработано\n"
     ]
    }
   ],
   "source": [
    "try:\n",
    "    print(1)\n",
    "finally:\n",
    "    print('Отработано')"
   ]
  },
  {
   "attachments": {
    "image.png": {
     "image/png": "[encoded data removed]"
    }
   },
   "cell_type": "markdown",
   "metadata": {},
   "source": [
    "# Стек вызова исключения\n",
    "\n",
    "При работе с вызовом исключений в вложенных функциях(которые вызываются внутри друг друга) если происзодит ошибка, то ход фукнции завершается выбрасываением Exception до тех пор пока не будет отловлен теми фукнцями в последовательности, которые в с свою очередь участвуют в стеке вызова.\n",
    "\n",
    "![image.png](attachment:image.png)"
   ]
  },
  {
   "cell_type": "code",
   "execution_count": 23,
   "metadata": {},
   "outputs": [
    {
     "name": "stdout",
     "output_type": "stream",
     "text": [
      "Запуск основной функции\n",
      "Запуск вложенной функции func2\n",
      "Запуск 3тей вложенной функции func3\n",
      "Возникла ошибка и обратана func1:  Это ошибка из 3тей функции\n",
      "Завершение основной функции\n"
     ]
    }
   ],
   "source": [
    "def func1():\n",
    "    try:\n",
    "        print('Запуск основной функции')\n",
    "        return func2()\n",
    "    except ValueError as e:\n",
    "        print('Возникла ошибка и обратана func1: ', e)\n",
    "    finally:\n",
    "        print('Завершение основной функции')\n",
    "\n",
    "def func2():\n",
    "    print('Запуск вложенной функции func2')\n",
    "    result = func3()\n",
    "    print('Завершение вложенной функции func2')\n",
    "    return result\n",
    "\n",
    "def func3():\n",
    "    print('Запуск 3тей вложенной функции func3')\n",
    "    raise ValueError('Это ошибка из 3тей функции')\n",
    "\n",
    "func1()"
   ]
  },
  {
   "cell_type": "markdown",
   "metadata": {},
   "source": [
    "Что такое Traceback? \n",
    "\n",
    "- Это отображение последовательности вызовов функций, которые привели к ошибке. \n",
    "- В Python traceback обычно начинается с строки кода, где произошла ошибка, и заканчивается строкой кода, в которой была вызвана основная функция. Также выписывается информация об ошибке, например, тип ошибки и сообщение об ошибке."
   ]
  },
  {
   "cell_type": "markdown",
   "metadata": {},
   "source": [
    "Использование библиотеки traceback для получения более подробной информации об ошибки\n",
    "\n",
    "traceback.format_exc() - это специальная функция, которая преобразует объект исключения в строку с подробной информацией об ошибке. Это полезно для отладки кода и получения более конкретной информации о проблеме.\n"
   ]
  },
  {
   "cell_type": "code",
   "execution_count": 24,
   "metadata": {},
   "outputs": [
    {
     "name": "stdout",
     "output_type": "stream",
     "text": [
      "Запуск основной функции\n",
      "Запуск вложенной функции func2\n",
      "Запуск 3тей вложенной функции func3\n",
      "Traceback (most recent call last):\n",
      "  File \"C:\\Users\\NatalkaNerealka\\AppData\\Local\\Temp\\ipykernel_3120\\2546364968.py\", line 7, in func1\n",
      "    return func2()\n",
      "           ^^^^^^^\n",
      "  File \"C:\\Users\\NatalkaNerealka\\AppData\\Local\\Temp\\ipykernel_3120\\2546364968.py\", line 17, in func2\n",
      "    result = func3()\n",
      "             ^^^^^^^\n",
      "  File \"C:\\Users\\NatalkaNerealka\\AppData\\Local\\Temp\\ipykernel_3120\\2546364968.py\", line 23, in func3\n",
      "    raise ValueError('Это ошибка из 3тей функции')\n",
      "ValueError: Это ошибка из 3тей функции\n",
      "\n",
      "Завершение основной функции\n"
     ]
    }
   ],
   "source": [
    "import traceback\n",
    "\n",
    "\n",
    "def func1():\n",
    "    try:\n",
    "        print('Запуск основной функции')\n",
    "        return func2()\n",
    "    except Exception as e:\n",
    "        print(traceback.format_exc())\n",
    "    # except ValueError as e:\n",
    "    #     print('Возникла ошибка и обратана func1: ', e)\n",
    "    finally:\n",
    "        print('Завершение основной функции')\n",
    "\n",
    "def func2():\n",
    "    print('Запуск вложенной функции func2')\n",
    "    result = func3()\n",
    "    print('Завершение вложенной функции func2')\n",
    "    return result\n",
    "\n",
    "def func3():\n",
    "    print('Запуск 3тей вложенной функции func3')\n",
    "    raise ValueError('Это ошибка из 3тей функции')\n",
    "\n",
    "func1()"
   ]
  },
  {
   "cell_type": "markdown",
   "metadata": {},
   "source": [
    "# Создание собственных исключений\n",
    "\n",
    "Собственные исключения создаются на основе класса Exception, и должно содержать параметр message который будет передаваться первым аргументом в `__init__` метод Exception `(super().__init__(...))`."
   ]
  },
  {
   "cell_type": "code",
   "execution_count": 26,
   "metadata": {},
   "outputs": [
    {
     "name": "stdout",
     "output_type": "stream",
     "text": [
      "Запуск основной функции\n",
      "Запуск вложенной функции func2\n",
      "e.message='Произошла ошибка в коде: Какая то причина'\n",
      "e=MyException('Произошла ошибка в коде: Какая то причина')\n",
      "Завершение основной функции\n"
     ]
    }
   ],
   "source": [
    "class MyException(Exception):\n",
    "    def __init__(self, reason, message='Произошла ошибка в коде: %s', *args):\n",
    "        self.message = message % reason\n",
    "        super().__init__(self.message, *args)\n",
    "\n",
    "def func1():\n",
    "    try:\n",
    "        print('Запуск основной функции')\n",
    "        return func2()\n",
    "    except MyException as e:\n",
    "        print(f'{e.message=}')\n",
    "        print(f'{e=}')\n",
    "    finally:\n",
    "        print('Завершение основной функции')\n",
    "\n",
    "def func2():\n",
    "    print('Запуск вложенной функции func2')\n",
    "    raise MyException('Какая то причина')\n",
    "\n",
    "func1()\n"
   ]
  },
  {
   "cell_type": "code",
   "execution_count": 28,
   "metadata": {},
   "outputs": [
    {
     "name": "stdout",
     "output_type": "stream",
     "text": [
      "Ошибка: Возраст должен быть числом. Пожалуйства введите корректный возраст\n",
      "Ошибка: Возраст должен быть числом. Пожалуйства введите корректный возраст\n",
      "Ошибка: Возраст не может быть отрицательным. Передано: -20\n",
      "Ошибка: Возраст должен быть числом. Пожалуйства введите корректный возраст\n",
      "Ваш возраст 25 лет.\n",
      "Программа завершена.\n",
      "Программа завершена.\n",
      "Программа завершена.\n",
      "Программа завершена.\n",
      "Программа завершена.\n"
     ]
    }
   ],
   "source": [
    "class NegativeAgeError(Exception):\n",
    "    def __init__(self, age, message = 'Возраст не может быть отрицательным', *args):\n",
    "        self.age = age\n",
    "        self.message = message\n",
    "        super().__init__(message, age, *args)\n",
    "        \n",
    "def check_age(age):\n",
    "    if age < 0:\n",
    "        raise NegativeAgeError(age)\n",
    "\n",
    "def validate_user_age(): \n",
    "    try: \n",
    "        age = int(input(\"Введите ваш возраст: \"))\n",
    "        check_age(age)\n",
    "    except ValueError as e: \n",
    "        print(f'Ошибка: Возраст должен быть числом. Пожалуйства введите корректный возраст')\n",
    "        return validate_user_age()\n",
    "    except NegativeAgeError as e:\n",
    "        print(f'Ошибка: {e.message}. Передано: {e.age}')\n",
    "        return validate_user_age()\n",
    "    else:\n",
    "        print(f'Ваш возраст {age} лет.')\n",
    "\n",
    "\n",
    "validate_user_age()"
   ]
  },
  {
   "cell_type": "code",
   "execution_count": null,
   "metadata": {},
   "outputs": [],
   "source": []
  }
 ],
 "metadata": {
  "kernelspec": {
   "display_name": "Python 3",
   "language": "python",
   "name": "python3"
  },
  "language_info": {
   "codemirror_mode": {
    "name": "ipython",
    "version": 3
   },
   "file_extension": ".py",
   "mimetype": "text/x-python",
   "name": "python",
   "nbconvert_exporter": "python",
   "pygments_lexer": "ipython3",
   "version": "3.11.9"
  }
 },
 "nbformat": 4,
 "nbformat_minor": 2
}
